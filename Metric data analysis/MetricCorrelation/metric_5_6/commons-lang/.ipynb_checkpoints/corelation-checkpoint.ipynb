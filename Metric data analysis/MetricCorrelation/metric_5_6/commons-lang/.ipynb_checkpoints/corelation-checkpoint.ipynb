{
 "cells": [
  {
   "cell_type": "markdown",
   "metadata": {},
   "source": [
    "### Correlation between Metric 5 and Metric 6.\n",
    "The rationale is that higher the number of Knots, might lower the defect density.\n",
    "\n",
    "### Apache commons-lang"
   ]
  },
  {
   "cell_type": "code",
   "execution_count": 1,
   "metadata": {},
   "outputs": [],
   "source": [
    "import pandas as pd\n",
    "import matplotlib.pyplot as plt\n",
    "import seaborn as sns\n",
    "from scipy.stats import spearmanr\n",
    "sns.set(style=\"whitegrid\")"
   ]
  },
  {
   "cell_type": "code",
   "execution_count": 2,
   "metadata": {},
   "outputs": [
    {
     "data": {
      "text/html": [
       "<div>\n",
       "<style scoped>\n",
       "    .dataframe tbody tr th:only-of-type {\n",
       "        vertical-align: middle;\n",
       "    }\n",
       "\n",
       "    .dataframe tbody tr th {\n",
       "        vertical-align: top;\n",
       "    }\n",
       "\n",
       "    .dataframe thead th {\n",
       "        text-align: right;\n",
       "    }\n",
       "</style>\n",
       "<table border=\"1\" class=\"dataframe\">\n",
       "  <thead>\n",
       "    <tr style=\"text-align: right;\">\n",
       "      <th></th>\n",
       "      <th>VERSION</th>\n",
       "      <th>DEFECTS</th>\n",
       "      <th>SLOC</th>\n",
       "      <th>DEFECT_DENSITY</th>\n",
       "      <th>KNOTS</th>\n",
       "    </tr>\n",
       "  </thead>\n",
       "  <tbody>\n",
       "    <tr>\n",
       "      <td>0</td>\n",
       "      <td>3.6</td>\n",
       "      <td>14</td>\n",
       "      <td>75440</td>\n",
       "      <td>0.185578</td>\n",
       "      <td>4796</td>\n",
       "    </tr>\n",
       "    <tr>\n",
       "      <td>1</td>\n",
       "      <td>3.7</td>\n",
       "      <td>17</td>\n",
       "      <td>75958</td>\n",
       "      <td>0.223808</td>\n",
       "      <td>4801</td>\n",
       "    </tr>\n",
       "    <tr>\n",
       "      <td>2</td>\n",
       "      <td>3.8</td>\n",
       "      <td>8</td>\n",
       "      <td>76784</td>\n",
       "      <td>0.104188</td>\n",
       "      <td>4810</td>\n",
       "    </tr>\n",
       "    <tr>\n",
       "      <td>3</td>\n",
       "      <td>3.8.1</td>\n",
       "      <td>15</td>\n",
       "      <td>76784</td>\n",
       "      <td>0.195353</td>\n",
       "      <td>4810</td>\n",
       "    </tr>\n",
       "    <tr>\n",
       "      <td>4</td>\n",
       "      <td>3.9</td>\n",
       "      <td>18</td>\n",
       "      <td>75643</td>\n",
       "      <td>0.237960</td>\n",
       "      <td>4044</td>\n",
       "    </tr>\n",
       "  </tbody>\n",
       "</table>\n",
       "</div>"
      ],
      "text/plain": [
       "  VERSION  DEFECTS   SLOC  DEFECT_DENSITY  KNOTS\n",
       "0     3.6       14  75440        0.185578   4796\n",
       "1     3.7       17  75958        0.223808   4801\n",
       "2     3.8        8  76784        0.104188   4810\n",
       "3   3.8.1       15  76784        0.195353   4810\n",
       "4     3.9       18  75643        0.237960   4044"
      ]
     },
     "execution_count": 2,
     "metadata": {},
     "output_type": "execute_result"
    }
   ],
   "source": [
    "#read metric6 file into dataframe\n",
    "df1 = pd.read_excel(\"PostReleaseDefectDensity.xlsx\", names=[\"VERSION\", \"DEFECTS\", \"SLOC\", \"DEFECT_DENSITY\"])\n",
    "\n",
    "#read metric5 file into dataframe\n",
    "df2 = pd.read_excel(\"knots.xlsx\", usecols=[1], names=[\"KNOTS\"])\n",
    "\n",
    "#merge two dataframe in one\n",
    "data =  pd.concat([df1, df2], axis=1)\n",
    "\n",
    "data['DEFECT_DENSITY'] =  data['DEFECT_DENSITY'] * 1000\n",
    "data.head()"
   ]
  },
  {
   "cell_type": "code",
   "execution_count": 3,
   "metadata": {},
   "outputs": [
    {
     "data": {
      "text/plain": [
       "Text(0.5, 1.0, 'Defect Density boxplot')"
      ]
     },
     "execution_count": 3,
     "metadata": {},
     "output_type": "execute_result"
    },
    {
     "data": {
      "image/png": "[encoded data removed]",
      "text/plain": [
       "<Figure size 432x288 with 1 Axes>"
      ]
     },
     "metadata": {
      "needs_background": "light"
     },
     "output_type": "display_data"
    }
   ],
   "source": [
    "#boxplot of Defect density\n",
    "#boxplot shows the range of the data\n",
    "ax = sns.boxplot(y=['DEFECT_DENSITY'], data=data)\n",
    "plt.title(\"Defect Density boxplot\")"
   ]
  },
  {
   "cell_type": "code",
   "execution_count": 4,
   "metadata": {},
   "outputs": [
    {
     "data": {
      "text/plain": [
       "Text(0.5, 1.0, 'Knots boxplot')"
      ]
     },
     "execution_count": 4,
     "metadata": {},
     "output_type": "execute_result"
    },
    {
     "data": {
      "image/png": "[encoded data removed]",
      "text/plain": [
       "<Figure size 432x288 with 1 Axes>"
      ]
     },
     "metadata": {
      "needs_background": "light"
     },
     "output_type": "display_data"
    }
   ],
   "source": [
    "#boxplot of Relative Knots\n",
    "#boxplot shows the range of the data\n",
    "ax = sns.boxplot(y=['KNOTS'], data=data)\n",
    "plt.title(\"Knots boxplot\")"
   ]
  },
  {
   "cell_type": "code",
   "execution_count": 16,
   "metadata": {},
   "outputs": [
    {
     "data": {
      "text/plain": [
       "Text(0.5, 1.0, 'Corelation Plot between knots and defect densit')"
      ]
     },
     "execution_count": 16,
     "metadata": {},
     "output_type": "execute_result"
    },
    {
     "data": {
      "image/png": "[encoded data removed]",
      "text/plain": [
       "<Figure size 432x288 with 1 Axes>"
      ]
     },
     "metadata": {
      "needs_background": "light"
     },
     "output_type": "display_data"
    }
   ],
   "source": [
    "plt.figure(figsize=(6, 4))\n",
    "ax = sns.scatterplot(x=\"KNOTS\", y=\"DEFECT_DENSITY\", data=data)\n",
    "plt.title(\"Corelation Plot between knots and defect density\")"
   ]
  },
  {
   "cell_type": "code",
   "execution_count": 17,
   "metadata": {},
   "outputs": [
    {
     "data": {
      "text/plain": [
       "Text(0.5, 1.0, 'Corelation LinePlot between knots and defect density')"
      ]
     },
     "execution_count": 17,
     "metadata": {},
     "output_type": "execute_result"
    },
    {
     "data": {
      "image/png": "[encoded data removed]",
      "text/plain": [
       "<Figure size 432x288 with 1 Axes>"
      ]
     },
     "metadata": {
      "needs_background": "light"
     },
     "output_type": "display_data"
    }
   ],
   "source": [
    "sns.lineplot(x=\"KNOTS\", y=\"DEFECT_DENSITY\", data=data, markers=True, dashes=False)\n",
    "plt.title(\"Corelation LinePlot between knots and defect density\")"
   ]
  },
  {
   "cell_type": "markdown",
   "metadata": {},
   "source": [
    "##### Corelation:"
   ]
  },
  {
   "cell_type": "code",
   "execution_count": 18,
   "metadata": {},
   "outputs": [
    {
     "name": "stdout",
     "output_type": "stream",
     "text": [
      "SpearmanrResult(correlation=-0.6155870112510925, pvalue=0.2689977701158222)\n"
     ]
    }
   ],
   "source": [
    "print(spearmanr(data['KNOTS'], data['DEFECT_DENSITY']))"
   ]
  },
  {
   "cell_type": "code",
   "execution_count": 19,
   "metadata": {},
   "outputs": [
    {
     "data": {
      "text/html": [
       "<div>\n",
       "<style scoped>\n",
       "    .dataframe tbody tr th:only-of-type {\n",
       "        vertical-align: middle;\n",
       "    }\n",
       "\n",
       "    .dataframe tbody tr th {\n",
       "        vertical-align: top;\n",
       "    }\n",
       "\n",
       "    .dataframe thead th {\n",
       "        text-align: right;\n",
       "    }\n",
       "</style>\n",
       "<table border=\"1\" class=\"dataframe\">\n",
       "  <thead>\n",
       "    <tr style=\"text-align: right;\">\n",
       "      <th></th>\n",
       "      <th>KNOTS</th>\n",
       "      <th>DEFECT_DENSITY</th>\n",
       "    </tr>\n",
       "  </thead>\n",
       "  <tbody>\n",
       "    <tr>\n",
       "      <td>KNOTS</td>\n",
       "      <td>1.000000</td>\n",
       "      <td>-0.615587</td>\n",
       "    </tr>\n",
       "    <tr>\n",
       "      <td>DEFECT_DENSITY</td>\n",
       "      <td>-0.615587</td>\n",
       "      <td>1.000000</td>\n",
       "    </tr>\n",
       "  </tbody>\n",
       "</table>\n",
       "</div>"
      ],
      "text/plain": [
       "                   KNOTS  DEFECT_DENSITY\n",
       "KNOTS           1.000000       -0.615587\n",
       "DEFECT_DENSITY -0.615587        1.000000"
      ]
     },
     "execution_count": 19,
     "metadata": {},
     "output_type": "execute_result"
    }
   ],
   "source": [
    "data[['KNOTS','DEFECT_DENSITY']].corr(method ='spearman')"
   ]
  },
  {
   "cell_type": "markdown",
   "metadata": {},
   "source": [
    "#### This Concludes that, as the number of knots increased in new project releases which results in lower defect density."
   ]
  },
  {
   "cell_type": "code",
   "execution_count": null,
   "metadata": {},
   "outputs": [],
   "source": []
  }
 ],
 "metadata": {
  "kernelspec": {
   "display_name": "Python 3",
   "language": "python",
   "name": "python3"
  },
  "language_info": {
   "codemirror_mode": {
    "name": "ipython",
    "version": 3
   },
   "file_extension": ".py",
   "mimetype": "text/x-python",
   "name": "python",
   "nbconvert_exporter": "python",
   "pygments_lexer": "ipython3",
   "version": "3.7.4"
  }
 },
 "nbformat": 4,
 "nbformat_minor": 2
}
