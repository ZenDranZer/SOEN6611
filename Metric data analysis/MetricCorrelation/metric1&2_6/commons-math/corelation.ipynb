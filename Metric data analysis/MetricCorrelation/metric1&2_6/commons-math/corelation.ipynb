{
 "cells": [
  {
   "cell_type": "markdown",
   "metadata": {},
   "source": [
    "### Correlation between each coverage metric (Metric 1&2) and Metric 6. \n",
    "The rationale is that “Classeswith low test coverage contain more bugs”\n",
    "\n",
    "### Apache commons-math"
   ]
  },
  {
   "cell_type": "code",
   "execution_count": 3,
   "metadata": {},
   "outputs": [],
   "source": [
    "import pandas as pd\n",
    "import matplotlib.pyplot as plt\n",
    "import seaborn as sns\n",
    "from scipy.stats import spearmanr\n",
    "sns.set(style=\"whitegrid\")"
   ]
  },
  {
   "cell_type": "code",
   "execution_count": 4,
   "metadata": {},
   "outputs": [],
   "source": [
    "data = pd.read_excel('commons-math-all_version.xlsx')"
   ]
  },
  {
   "cell_type": "code",
   "execution_count": 5,
   "metadata": {},
   "outputs": [],
   "source": [
    "#calculate Statement Coverage\n",
    "data['STATEMENT_COVERAGE'] =  (data['LINE_COVERED'] / (data['LINE_COVERED'] + data['LINE_MISSED']))\n",
    "\n",
    "#calculate Branch Coverage\n",
    "data['BRANCH_COVERAGE'] =  (data['BRANCH_COVERED'] / (data['BRANCH_COVERED'] + data['BRANCH_MISSED']))\n",
    "\n",
    "data['Post Release Defect Density'] = data['Post Release Defect Density'] * 1000"
   ]
  },
  {
   "cell_type": "code",
   "execution_count": 6,
   "metadata": {},
   "outputs": [
    {
     "data": {
      "text/html": [
       "<div>\n",
       "<style scoped>\n",
       "    .dataframe tbody tr th:only-of-type {\n",
       "        vertical-align: middle;\n",
       "    }\n",
       "\n",
       "    .dataframe tbody tr th {\n",
       "        vertical-align: top;\n",
       "    }\n",
       "\n",
       "    .dataframe thead th {\n",
       "        text-align: right;\n",
       "    }\n",
       "</style>\n",
       "<table border=\"1\" class=\"dataframe\">\n",
       "  <thead>\n",
       "    <tr style=\"text-align: right;\">\n",
       "      <th></th>\n",
       "      <th>VERSION</th>\n",
       "      <th>INSTRUCTION_MISSED</th>\n",
       "      <th>INSTRUCTION_COVERED</th>\n",
       "      <th>BRANCH_MISSED</th>\n",
       "      <th>BRANCH_COVERED</th>\n",
       "      <th>LINE_MISSED</th>\n",
       "      <th>LINE_COVERED</th>\n",
       "      <th>COMPLEXITY_MISSED</th>\n",
       "      <th>COMPLEXITY_COVERED</th>\n",
       "      <th>METHOD_MISSED</th>\n",
       "      <th>METHOD_COVERED</th>\n",
       "      <th>Post Release Defect Density</th>\n",
       "      <th>STATEMENT_COVERAGE</th>\n",
       "      <th>BRANCH_COVERAGE</th>\n",
       "    </tr>\n",
       "  </thead>\n",
       "  <tbody>\n",
       "    <tr>\n",
       "      <td>0</td>\n",
       "      <td>commons-math3-3.3</td>\n",
       "      <td>25.322547</td>\n",
       "      <td>300.966597</td>\n",
       "      <td>3.125261</td>\n",
       "      <td>18.353862</td>\n",
       "      <td>4.990605</td>\n",
       "      <td>44.076200</td>\n",
       "      <td>3.565762</td>\n",
       "      <td>15.269311</td>\n",
       "      <td>1.013570</td>\n",
       "      <td>6.995825</td>\n",
       "      <td>0.197313</td>\n",
       "      <td>0.898290</td>\n",
       "      <td>0.854498</td>\n",
       "    </tr>\n",
       "    <tr>\n",
       "      <td>1</td>\n",
       "      <td>commons-math3-3.4</td>\n",
       "      <td>25.735529</td>\n",
       "      <td>315.371257</td>\n",
       "      <td>3.237525</td>\n",
       "      <td>18.307385</td>\n",
       "      <td>5.024950</td>\n",
       "      <td>43.622754</td>\n",
       "      <td>3.627745</td>\n",
       "      <td>15.175649</td>\n",
       "      <td>1.014970</td>\n",
       "      <td>6.932136</td>\n",
       "      <td>0.061351</td>\n",
       "      <td>0.896707</td>\n",
       "      <td>0.849731</td>\n",
       "    </tr>\n",
       "    <tr>\n",
       "      <td>2</td>\n",
       "      <td>commons-math3-3.5</td>\n",
       "      <td>25.560878</td>\n",
       "      <td>316.238523</td>\n",
       "      <td>3.217565</td>\n",
       "      <td>18.399202</td>\n",
       "      <td>4.981038</td>\n",
       "      <td>43.749501</td>\n",
       "      <td>3.616766</td>\n",
       "      <td>15.232535</td>\n",
       "      <td>1.012974</td>\n",
       "      <td>6.944112</td>\n",
       "      <td>0.203511</td>\n",
       "      <td>0.897784</td>\n",
       "      <td>0.851154</td>\n",
       "    </tr>\n",
       "    <tr>\n",
       "      <td>3</td>\n",
       "      <td>commons-math3-3.6.1</td>\n",
       "      <td>25.438140</td>\n",
       "      <td>313.973023</td>\n",
       "      <td>3.207442</td>\n",
       "      <td>17.973023</td>\n",
       "      <td>4.954419</td>\n",
       "      <td>43.456744</td>\n",
       "      <td>3.556279</td>\n",
       "      <td>14.931163</td>\n",
       "      <td>0.991628</td>\n",
       "      <td>6.826047</td>\n",
       "      <td>0.076614</td>\n",
       "      <td>0.897660</td>\n",
       "      <td>0.848566</td>\n",
       "    </tr>\n",
       "    <tr>\n",
       "      <td>4</td>\n",
       "      <td>commons-math3-3.6</td>\n",
       "      <td>25.431628</td>\n",
       "      <td>313.996279</td>\n",
       "      <td>3.207442</td>\n",
       "      <td>17.978605</td>\n",
       "      <td>4.953488</td>\n",
       "      <td>43.459535</td>\n",
       "      <td>3.556279</td>\n",
       "      <td>14.933953</td>\n",
       "      <td>0.991628</td>\n",
       "      <td>6.826047</td>\n",
       "      <td>0.229785</td>\n",
       "      <td>0.897683</td>\n",
       "      <td>0.848606</td>\n",
       "    </tr>\n",
       "  </tbody>\n",
       "</table>\n",
       "</div>"
      ],
      "text/plain": [
       "               VERSION  INSTRUCTION_MISSED  INSTRUCTION_COVERED  \\\n",
       "0    commons-math3-3.3           25.322547           300.966597   \n",
       "1    commons-math3-3.4           25.735529           315.371257   \n",
       "2    commons-math3-3.5           25.560878           316.238523   \n",
       "3  commons-math3-3.6.1           25.438140           313.973023   \n",
       "4    commons-math3-3.6           25.431628           313.996279   \n",
       "\n",
       "   BRANCH_MISSED  BRANCH_COVERED  LINE_MISSED  LINE_COVERED  \\\n",
       "0       3.125261       18.353862     4.990605     44.076200   \n",
       "1       3.237525       18.307385     5.024950     43.622754   \n",
       "2       3.217565       18.399202     4.981038     43.749501   \n",
       "3       3.207442       17.973023     4.954419     43.456744   \n",
       "4       3.207442       17.978605     4.953488     43.459535   \n",
       "\n",
       "   COMPLEXITY_MISSED  COMPLEXITY_COVERED  METHOD_MISSED  METHOD_COVERED  \\\n",
       "0           3.565762           15.269311       1.013570        6.995825   \n",
       "1           3.627745           15.175649       1.014970        6.932136   \n",
       "2           3.616766           15.232535       1.012974        6.944112   \n",
       "3           3.556279           14.931163       0.991628        6.826047   \n",
       "4           3.556279           14.933953       0.991628        6.826047   \n",
       "\n",
       "   Post Release Defect Density  STATEMENT_COVERAGE  BRANCH_COVERAGE  \n",
       "0                     0.197313            0.898290         0.854498  \n",
       "1                     0.061351            0.896707         0.849731  \n",
       "2                     0.203511            0.897784         0.851154  \n",
       "3                     0.076614            0.897660         0.848566  \n",
       "4                     0.229785            0.897683         0.848606  "
      ]
     },
     "execution_count": 6,
     "metadata": {},
     "output_type": "execute_result"
    }
   ],
   "source": [
    "data.head()"
   ]
  },
  {
   "cell_type": "markdown",
   "metadata": {},
   "source": [
    "### 1. Metric 1 and 6\n",
    "Statement coverage and Post Defect Density"
   ]
  },
  {
   "cell_type": "code",
   "execution_count": 7,
   "metadata": {},
   "outputs": [
    {
     "data": {
      "text/plain": [
       "Text(0.5, 1.0, 'Statement coverage and Defect Density')"
      ]
     },
     "execution_count": 7,
     "metadata": {},
     "output_type": "execute_result"
    },
    {
     "data": {
      "image/png": "[encoded data removed]",
      "text/plain": [
       "<Figure size 432x288 with 1 Axes>"
      ]
     },
     "metadata": {},
     "output_type": "display_data"
    }
   ],
   "source": [
    "plt.figure(figsize=(6, 4))\n",
    "ax = sns.lineplot(x=\"STATEMENT_COVERAGE\", y=\"Post Release Defect Density\", data=data)\n",
    "plt.ylabel(\"DEFECT_DENSITY\")\n",
    "plt.title(\"Statement coverage and Defect Density\")"
   ]
  },
  {
   "cell_type": "markdown",
   "metadata": {},
   "source": [
    "##### Corelation:"
   ]
  },
  {
   "cell_type": "code",
   "execution_count": 8,
   "metadata": {},
   "outputs": [
    {
     "data": {
      "text/html": [
       "<div>\n",
       "<style scoped>\n",
       "    .dataframe tbody tr th:only-of-type {\n",
       "        vertical-align: middle;\n",
       "    }\n",
       "\n",
       "    .dataframe tbody tr th {\n",
       "        vertical-align: top;\n",
       "    }\n",
       "\n",
       "    .dataframe thead th {\n",
       "        text-align: right;\n",
       "    }\n",
       "</style>\n",
       "<table border=\"1\" class=\"dataframe\">\n",
       "  <thead>\n",
       "    <tr style=\"text-align: right;\">\n",
       "      <th></th>\n",
       "      <th>STATEMENT_COVERAGE</th>\n",
       "      <th>Post Release Defect Density</th>\n",
       "    </tr>\n",
       "  </thead>\n",
       "  <tbody>\n",
       "    <tr>\n",
       "      <td>STATEMENT_COVERAGE</td>\n",
       "      <td>1.0</td>\n",
       "      <td>0.6</td>\n",
       "    </tr>\n",
       "    <tr>\n",
       "      <td>Post Release Defect Density</td>\n",
       "      <td>0.6</td>\n",
       "      <td>1.0</td>\n",
       "    </tr>\n",
       "  </tbody>\n",
       "</table>\n",
       "</div>"
      ],
      "text/plain": [
       "                             STATEMENT_COVERAGE  Post Release Defect Density\n",
       "STATEMENT_COVERAGE                          1.0                          0.6\n",
       "Post Release Defect Density                 0.6                          1.0"
      ]
     },
     "execution_count": 8,
     "metadata": {},
     "output_type": "execute_result"
    }
   ],
   "source": [
    "data[['STATEMENT_COVERAGE','Post Release Defect Density']].corr(method ='spearman')"
   ]
  },
  {
   "cell_type": "code",
   "execution_count": 9,
   "metadata": {},
   "outputs": [
    {
     "name": "stdout",
     "output_type": "stream",
     "text": [
      "SpearmanrResult(correlation=0.6, pvalue=0.28475697986529375)\n"
     ]
    }
   ],
   "source": [
    "print(spearmanr(data['STATEMENT_COVERAGE'],data['Post Release Defect Density']))"
   ]
  },
  {
   "cell_type": "markdown",
   "metadata": {},
   "source": [
    "### This concludes that Classes with low Statement Coverage contain more bugs"
   ]
  },
  {
   "cell_type": "markdown",
   "metadata": {},
   "source": [
    "### 2. Metric 2 and 6\n",
    "Branch coverage and Post Defect Density"
   ]
  },
  {
   "cell_type": "code",
   "execution_count": 10,
   "metadata": {},
   "outputs": [
    {
     "data": {
      "text/plain": [
       "Text(0.5, 1.0, 'Branch Coverage and Defect Density')"
      ]
     },
     "execution_count": 10,
     "metadata": {},
     "output_type": "execute_result"
    },
    {
     "data": {
      "image/png": "[encoded data removed]",
      "text/plain": [
       "<Figure size 432x288 with 1 Axes>"
      ]
     },
     "metadata": {},
     "output_type": "display_data"
    }
   ],
   "source": [
    "plt.figure(figsize=(6, 4))\n",
    "ax = sns.lineplot(x=\"BRANCH_COVERAGE\", y=\"Post Release Defect Density\", data=data)\n",
    "plt.ylabel(\"DEFECT DENSITY\")\n",
    "plt.title(\"Branch Coverage and Defect Density\")"
   ]
  },
  {
   "cell_type": "markdown",
   "metadata": {},
   "source": [
    "##### Corelation:"
   ]
  },
  {
   "cell_type": "code",
   "execution_count": 11,
   "metadata": {},
   "outputs": [
    {
     "data": {
      "text/html": [
       "<div>\n",
       "<style scoped>\n",
       "    .dataframe tbody tr th:only-of-type {\n",
       "        vertical-align: middle;\n",
       "    }\n",
       "\n",
       "    .dataframe tbody tr th {\n",
       "        vertical-align: top;\n",
       "    }\n",
       "\n",
       "    .dataframe thead th {\n",
       "        text-align: right;\n",
       "    }\n",
       "</style>\n",
       "<table border=\"1\" class=\"dataframe\">\n",
       "  <thead>\n",
       "    <tr style=\"text-align: right;\">\n",
       "      <th></th>\n",
       "      <th>BRANCH_COVERAGE</th>\n",
       "      <th>Post Release Defect Density</th>\n",
       "    </tr>\n",
       "  </thead>\n",
       "  <tbody>\n",
       "    <tr>\n",
       "      <td>BRANCH_COVERAGE</td>\n",
       "      <td>1.0</td>\n",
       "      <td>0.1</td>\n",
       "    </tr>\n",
       "    <tr>\n",
       "      <td>Post Release Defect Density</td>\n",
       "      <td>0.1</td>\n",
       "      <td>1.0</td>\n",
       "    </tr>\n",
       "  </tbody>\n",
       "</table>\n",
       "</div>"
      ],
      "text/plain": [
       "                             BRANCH_COVERAGE  Post Release Defect Density\n",
       "BRANCH_COVERAGE                          1.0                          0.1\n",
       "Post Release Defect Density              0.1                          1.0"
      ]
     },
     "execution_count": 11,
     "metadata": {},
     "output_type": "execute_result"
    }
   ],
   "source": [
    "data[['BRANCH_COVERAGE','Post Release Defect Density']].corr(method ='spearman')"
   ]
  },
  {
   "cell_type": "code",
   "execution_count": 12,
   "metadata": {},
   "outputs": [
    {
     "name": "stdout",
     "output_type": "stream",
     "text": [
      "SpearmanrResult(correlation=0.09999999999999999, pvalue=0.8728885715695383)\n"
     ]
    }
   ],
   "source": [
    "print(spearmanr(data['BRANCH_COVERAGE'],data['Post Release Defect Density']))"
   ]
  },
  {
   "cell_type": "markdown",
   "metadata": {},
   "source": [
    "### This concludes that Classes with low Branch Coverage contain more bugs"
   ]
  },
  {
   "cell_type": "code",
   "execution_count": null,
   "metadata": {},
   "outputs": [],
   "source": []
  }
 ],
 "metadata": {
  "kernelspec": {
   "display_name": "Python 3",
   "language": "python",
   "name": "python3"
  },
  "language_info": {
   "codemirror_mode": {
    "name": "ipython",
    "version": 3
   },
   "file_extension": ".py",
   "mimetype": "text/x-python",
   "name": "python",
   "nbconvert_exporter": "python",
   "pygments_lexer": "ipython3",
   "version": "3.7.4"
  }
 },
 "nbformat": 4,
 "nbformat_minor": 2
}
