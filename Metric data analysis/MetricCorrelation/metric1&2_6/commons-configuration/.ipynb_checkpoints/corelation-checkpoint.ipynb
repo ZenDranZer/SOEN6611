{
 "cells": [
  {
   "cell_type": "markdown",
   "metadata": {},
   "source": [
    "### Correlation between each coverage metric (Metric 1&2) and Metric 6. \n",
    "The rationale is that “Classeswith low test coverage contain more bugs”\n",
    "\n",
    "### Apache commons-configuration"
   ]
  },
  {
   "cell_type": "code",
   "execution_count": 13,
   "metadata": {},
   "outputs": [],
   "source": [
    "import pandas as pd\n",
    "import matplotlib.pyplot as plt\n",
    "import seaborn as sns\n",
    "from scipy.stats import spearmanr\n",
    "sns.set(style=\"whitegrid\")"
   ]
  },
  {
   "cell_type": "code",
   "execution_count": 14,
   "metadata": {},
   "outputs": [],
   "source": [
    "data = pd.read_excel('commons-configuration-all_version.xlsx')"
   ]
  },
  {
   "cell_type": "code",
   "execution_count": 15,
   "metadata": {},
   "outputs": [],
   "source": [
    "#calculate Statement Coverage\n",
    "data['STATEMENT_COVERAGE'] =  (data['LINE_COVERED'] / (data['LINE_COVERED'] + data['LINE_MISSED']))\n",
    "\n",
    "#calculate Branch Coverage\n",
    "data['BRANCH_COVERAGE'] =  (data['BRANCH_COVERED'] / (data['BRANCH_COVERED'] + data['BRANCH_MISSED']))\n",
    "\n",
    "data['Post Release Defect Density'] = data['Post Release Defect Density'] * 1000"
   ]
  },
  {
   "cell_type": "code",
   "execution_count": 16,
   "metadata": {},
   "outputs": [
    {
     "data": {
      "text/html": [
       "<div>\n",
       "<style scoped>\n",
       "    .dataframe tbody tr th:only-of-type {\n",
       "        vertical-align: middle;\n",
       "    }\n",
       "\n",
       "    .dataframe tbody tr th {\n",
       "        vertical-align: top;\n",
       "    }\n",
       "\n",
       "    .dataframe thead th {\n",
       "        text-align: right;\n",
       "    }\n",
       "</style>\n",
       "<table border=\"1\" class=\"dataframe\">\n",
       "  <thead>\n",
       "    <tr style=\"text-align: right;\">\n",
       "      <th></th>\n",
       "      <th>VERSION</th>\n",
       "      <th>INSTRUCTION_MISSED</th>\n",
       "      <th>INSTRUCTION_COVERED</th>\n",
       "      <th>BRANCH_MISSED</th>\n",
       "      <th>BRANCH_COVERED</th>\n",
       "      <th>LINE_MISSED</th>\n",
       "      <th>LINE_COVERED</th>\n",
       "      <th>COMPLEXITY_MISSED</th>\n",
       "      <th>COMPLEXITY_COVERED</th>\n",
       "      <th>METHOD_MISSED</th>\n",
       "      <th>METHOD_COVERED</th>\n",
       "      <th>Post Release Defect Density</th>\n",
       "      <th>STATEMENT_COVERAGE</th>\n",
       "      <th>BRANCH_COVERAGE</th>\n",
       "    </tr>\n",
       "  </thead>\n",
       "  <tbody>\n",
       "    <tr>\n",
       "      <td>0</td>\n",
       "      <td>commons-configuration-2.3</td>\n",
       "      <td>19.842282</td>\n",
       "      <td>139.449664</td>\n",
       "      <td>2.530201</td>\n",
       "      <td>12.791946</td>\n",
       "      <td>4.127517</td>\n",
       "      <td>34.597315</td>\n",
       "      <td>2.842282</td>\n",
       "      <td>14.825503</td>\n",
       "      <td>0.859060</td>\n",
       "      <td>9.036913</td>\n",
       "      <td>0.104407</td>\n",
       "      <td>0.893414</td>\n",
       "      <td>0.834866</td>\n",
       "    </tr>\n",
       "    <tr>\n",
       "      <td>1</td>\n",
       "      <td>commons-configuration-2.4</td>\n",
       "      <td>19.686469</td>\n",
       "      <td>138.894389</td>\n",
       "      <td>2.495050</td>\n",
       "      <td>12.679868</td>\n",
       "      <td>4.085809</td>\n",
       "      <td>34.346535</td>\n",
       "      <td>2.815182</td>\n",
       "      <td>14.679868</td>\n",
       "      <td>0.858086</td>\n",
       "      <td>8.940594</td>\n",
       "      <td>0.044603</td>\n",
       "      <td>0.893688</td>\n",
       "      <td>0.835581</td>\n",
       "    </tr>\n",
       "    <tr>\n",
       "      <td>2</td>\n",
       "      <td>commons-configuration-2.5</td>\n",
       "      <td>19.717105</td>\n",
       "      <td>138.825658</td>\n",
       "      <td>2.490132</td>\n",
       "      <td>12.674342</td>\n",
       "      <td>4.088816</td>\n",
       "      <td>34.351974</td>\n",
       "      <td>2.819079</td>\n",
       "      <td>14.671053</td>\n",
       "      <td>0.865132</td>\n",
       "      <td>8.934211</td>\n",
       "      <td>0.044491</td>\n",
       "      <td>0.893633</td>\n",
       "      <td>0.835792</td>\n",
       "    </tr>\n",
       "    <tr>\n",
       "      <td>3</td>\n",
       "      <td>commons-configuration-2.6</td>\n",
       "      <td>21.073944</td>\n",
       "      <td>148.176056</td>\n",
       "      <td>2.669014</td>\n",
       "      <td>13.584507</td>\n",
       "      <td>4.373239</td>\n",
       "      <td>36.746479</td>\n",
       "      <td>3.024648</td>\n",
       "      <td>15.672535</td>\n",
       "      <td>0.929577</td>\n",
       "      <td>9.524648</td>\n",
       "      <td>0.088872</td>\n",
       "      <td>0.893646</td>\n",
       "      <td>0.835789</td>\n",
       "    </tr>\n",
       "    <tr>\n",
       "      <td>4</td>\n",
       "      <td>commons-configuration-2.7</td>\n",
       "      <td>20.919298</td>\n",
       "      <td>147.845614</td>\n",
       "      <td>2.652632</td>\n",
       "      <td>13.529825</td>\n",
       "      <td>4.336842</td>\n",
       "      <td>36.673684</td>\n",
       "      <td>3.003509</td>\n",
       "      <td>15.638596</td>\n",
       "      <td>0.919298</td>\n",
       "      <td>9.515789</td>\n",
       "      <td>0.014786</td>\n",
       "      <td>0.894251</td>\n",
       "      <td>0.836080</td>\n",
       "    </tr>\n",
       "  </tbody>\n",
       "</table>\n",
       "</div>"
      ],
      "text/plain": [
       "                     VERSION  INSTRUCTION_MISSED  INSTRUCTION_COVERED  \\\n",
       "0  commons-configuration-2.3           19.842282           139.449664   \n",
       "1  commons-configuration-2.4           19.686469           138.894389   \n",
       "2  commons-configuration-2.5           19.717105           138.825658   \n",
       "3  commons-configuration-2.6           21.073944           148.176056   \n",
       "4  commons-configuration-2.7           20.919298           147.845614   \n",
       "\n",
       "   BRANCH_MISSED  BRANCH_COVERED  LINE_MISSED  LINE_COVERED  \\\n",
       "0       2.530201       12.791946     4.127517     34.597315   \n",
       "1       2.495050       12.679868     4.085809     34.346535   \n",
       "2       2.490132       12.674342     4.088816     34.351974   \n",
       "3       2.669014       13.584507     4.373239     36.746479   \n",
       "4       2.652632       13.529825     4.336842     36.673684   \n",
       "\n",
       "   COMPLEXITY_MISSED  COMPLEXITY_COVERED  METHOD_MISSED  METHOD_COVERED  \\\n",
       "0           2.842282           14.825503       0.859060        9.036913   \n",
       "1           2.815182           14.679868       0.858086        8.940594   \n",
       "2           2.819079           14.671053       0.865132        8.934211   \n",
       "3           3.024648           15.672535       0.929577        9.524648   \n",
       "4           3.003509           15.638596       0.919298        9.515789   \n",
       "\n",
       "   Post Release Defect Density  STATEMENT_COVERAGE  BRANCH_COVERAGE  \n",
       "0                     0.104407            0.893414         0.834866  \n",
       "1                     0.044603            0.893688         0.835581  \n",
       "2                     0.044491            0.893633         0.835792  \n",
       "3                     0.088872            0.893646         0.835789  \n",
       "4                     0.014786            0.894251         0.836080  "
      ]
     },
     "execution_count": 16,
     "metadata": {},
     "output_type": "execute_result"
    }
   ],
   "source": [
    "data.head()"
   ]
  },
  {
   "cell_type": "markdown",
   "metadata": {},
   "source": [
    "### 1. Metric 1 and 6\n",
    "Statement coverage and Post Defect Density"
   ]
  },
  {
   "cell_type": "code",
   "execution_count": 17,
   "metadata": {},
   "outputs": [
    {
     "data": {
      "text/plain": [
       "Text(0.5, 1.0, 'Statement coverage and Defect Density')"
      ]
     },
     "execution_count": 17,
     "metadata": {},
     "output_type": "execute_result"
    },
    {
     "data": {
      "image/png": "[encoded data removed]",
      "text/plain": [
       "<Figure size 432x288 with 1 Axes>"
      ]
     },
     "metadata": {},
     "output_type": "display_data"
    }
   ],
   "source": [
    "plt.figure(figsize=(6, 4))\n",
    "ax = sns.lineplot(x=\"STATEMENT_COVERAGE\", y=\"Post Release Defect Density\", data=data)\n",
    "plt.ylabel(\"DEFECT_DENSITY\")\n",
    "plt.title(\"Statement coverage and Defect Density\")"
   ]
  },
  {
   "cell_type": "markdown",
   "metadata": {},
   "source": [
    "##### Corelation:"
   ]
  },
  {
   "cell_type": "code",
   "execution_count": 18,
   "metadata": {},
   "outputs": [
    {
     "data": {
      "text/html": [
       "<div>\n",
       "<style scoped>\n",
       "    .dataframe tbody tr th:only-of-type {\n",
       "        vertical-align: middle;\n",
       "    }\n",
       "\n",
       "    .dataframe tbody tr th {\n",
       "        vertical-align: top;\n",
       "    }\n",
       "\n",
       "    .dataframe thead th {\n",
       "        text-align: right;\n",
       "    }\n",
       "</style>\n",
       "<table border=\"1\" class=\"dataframe\">\n",
       "  <thead>\n",
       "    <tr style=\"text-align: right;\">\n",
       "      <th></th>\n",
       "      <th>STATEMENT_COVERAGE</th>\n",
       "      <th>Post Release Defect Density</th>\n",
       "    </tr>\n",
       "  </thead>\n",
       "  <tbody>\n",
       "    <tr>\n",
       "      <td>STATEMENT_COVERAGE</td>\n",
       "      <td>1.0</td>\n",
       "      <td>-0.7</td>\n",
       "    </tr>\n",
       "    <tr>\n",
       "      <td>Post Release Defect Density</td>\n",
       "      <td>-0.7</td>\n",
       "      <td>1.0</td>\n",
       "    </tr>\n",
       "  </tbody>\n",
       "</table>\n",
       "</div>"
      ],
      "text/plain": [
       "                             STATEMENT_COVERAGE  Post Release Defect Density\n",
       "STATEMENT_COVERAGE                          1.0                         -0.7\n",
       "Post Release Defect Density                -0.7                          1.0"
      ]
     },
     "execution_count": 18,
     "metadata": {},
     "output_type": "execute_result"
    }
   ],
   "source": [
    "data[['STATEMENT_COVERAGE','Post Release Defect Density']].corr(method ='spearman')"
   ]
  },
  {
   "cell_type": "code",
   "execution_count": 19,
   "metadata": {},
   "outputs": [
    {
     "name": "stdout",
     "output_type": "stream",
     "text": [
      "SpearmanrResult(correlation=-0.7, pvalue=0.1881204043741873)\n"
     ]
    }
   ],
   "source": [
    "print(spearmanr(data['STATEMENT_COVERAGE'],data['Post Release Defect Density']))"
   ]
  },
  {
   "cell_type": "markdown",
   "metadata": {},
   "source": [
    "### This concludes that Classes with low Statement Coverage contain more bugs"
   ]
  },
  {
   "cell_type": "markdown",
   "metadata": {},
   "source": [
    "### 2. Metric 2 and 6\n",
    "Branch coverage and Post Defect Density"
   ]
  },
  {
   "cell_type": "code",
   "execution_count": 20,
   "metadata": {},
   "outputs": [
    {
     "data": {
      "text/plain": [
       "Text(0.5, 1.0, 'Branch Coverage and Defect Density')"
      ]
     },
     "execution_count": 20,
     "metadata": {},
     "output_type": "execute_result"
    },
    {
     "data": {
      "image/png": "[encoded data removed]",
      "text/plain": [
       "<Figure size 432x288 with 1 Axes>"
      ]
     },
     "metadata": {},
     "output_type": "display_data"
    }
   ],
   "source": [
    "plt.figure(figsize=(6, 4))\n",
    "ax = sns.lineplot(x=\"BRANCH_COVERAGE\", y=\"Post Release Defect Density\", data=data)\n",
    "plt.ylabel(\"DEFECT DENSITY\")\n",
    "plt.title(\"Branch Coverage and Defect Density\")"
   ]
  },
  {
   "cell_type": "markdown",
   "metadata": {},
   "source": [
    "##### Corelation:"
   ]
  },
  {
   "cell_type": "code",
   "execution_count": 21,
   "metadata": {},
   "outputs": [
    {
     "data": {
      "text/html": [
       "<div>\n",
       "<style scoped>\n",
       "    .dataframe tbody tr th:only-of-type {\n",
       "        vertical-align: middle;\n",
       "    }\n",
       "\n",
       "    .dataframe tbody tr th {\n",
       "        vertical-align: top;\n",
       "    }\n",
       "\n",
       "    .dataframe thead th {\n",
       "        text-align: right;\n",
       "    }\n",
       "</style>\n",
       "<table border=\"1\" class=\"dataframe\">\n",
       "  <thead>\n",
       "    <tr style=\"text-align: right;\">\n",
       "      <th></th>\n",
       "      <th>BRANCH_COVERAGE</th>\n",
       "      <th>Post Release Defect Density</th>\n",
       "    </tr>\n",
       "  </thead>\n",
       "  <tbody>\n",
       "    <tr>\n",
       "      <td>BRANCH_COVERAGE</td>\n",
       "      <td>1.0</td>\n",
       "      <td>-0.9</td>\n",
       "    </tr>\n",
       "    <tr>\n",
       "      <td>Post Release Defect Density</td>\n",
       "      <td>-0.9</td>\n",
       "      <td>1.0</td>\n",
       "    </tr>\n",
       "  </tbody>\n",
       "</table>\n",
       "</div>"
      ],
      "text/plain": [
       "                             BRANCH_COVERAGE  Post Release Defect Density\n",
       "BRANCH_COVERAGE                          1.0                         -0.9\n",
       "Post Release Defect Density             -0.9                          1.0"
      ]
     },
     "execution_count": 21,
     "metadata": {},
     "output_type": "execute_result"
    }
   ],
   "source": [
    "data[['BRANCH_COVERAGE','Post Release Defect Density']].corr(method ='spearman')"
   ]
  },
  {
   "cell_type": "code",
   "execution_count": 22,
   "metadata": {},
   "outputs": [
    {
     "name": "stdout",
     "output_type": "stream",
     "text": [
      "SpearmanrResult(correlation=-0.8999999999999998, pvalue=0.03738607346849874)\n"
     ]
    }
   ],
   "source": [
    "print(spearmanr(data['BRANCH_COVERAGE'],data['Post Release Defect Density']))"
   ]
  },
  {
   "cell_type": "markdown",
   "metadata": {},
   "source": [
    "### This concludes that Classes with low Branch Coverage contain more bugs"
   ]
  },
  {
   "cell_type": "code",
   "execution_count": null,
   "metadata": {},
   "outputs": [],
   "source": []
  }
 ],
 "metadata": {
  "kernelspec": {
   "display_name": "Python 3",
   "language": "python",
   "name": "python3"
  },
  "language_info": {
   "codemirror_mode": {
    "name": "ipython",
    "version": 3
   },
   "file_extension": ".py",
   "mimetype": "text/x-python",
   "name": "python",
   "nbconvert_exporter": "python",
   "pygments_lexer": "ipython3",
   "version": "3.7.4"
  }
 },
 "nbformat": 4,
 "nbformat_minor": 2
}
