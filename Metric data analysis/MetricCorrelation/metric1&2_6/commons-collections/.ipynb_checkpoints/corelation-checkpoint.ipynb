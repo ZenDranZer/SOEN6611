{
 "cells": [
  {
   "cell_type": "markdown",
   "metadata": {},
   "source": [
    "### Correlation between each coverage metric (Metric 1&2) and Metric 6. \n",
    "The rationale is that “Classeswith low test coverage contain more bugs”\n",
    "\n",
    "### Apache commons-collections"
   ]
  },
  {
   "cell_type": "code",
   "execution_count": 41,
   "metadata": {},
   "outputs": [],
   "source": [
    "import pandas as pd\n",
    "import matplotlib.pyplot as plt\n",
    "import seaborn as sns\n",
    "from scipy.stats import spearmanr\n",
    "sns.set(style=\"whitegrid\")"
   ]
  },
  {
   "cell_type": "code",
   "execution_count": 42,
   "metadata": {},
   "outputs": [],
   "source": [
    "data = pd.read_excel('commons-collections-all_version.xlsx')"
   ]
  },
  {
   "cell_type": "code",
   "execution_count": 43,
   "metadata": {},
   "outputs": [],
   "source": [
    "#calculate Statement Coverage\n",
    "data['STATEMENT_COVERAGE'] =  (data['LINE_COVERED'] / (data['LINE_COVERED'] + data['LINE_MISSED']))\n",
    "\n",
    "#calculate Branch Coverage\n",
    "data['BRANCH_COVERAGE'] =  (data['BRANCH_COVERED'] / (data['BRANCH_COVERED'] + data['BRANCH_MISSED']))\n",
    "\n",
    "data['Post Release Defect Density'] = data['Post Release Defect Density'] * 1000"
   ]
  },
  {
   "cell_type": "code",
   "execution_count": 44,
   "metadata": {},
   "outputs": [
    {
     "data": {
      "text/html": [
       "<div>\n",
       "<style scoped>\n",
       "    .dataframe tbody tr th:only-of-type {\n",
       "        vertical-align: middle;\n",
       "    }\n",
       "\n",
       "    .dataframe tbody tr th {\n",
       "        vertical-align: top;\n",
       "    }\n",
       "\n",
       "    .dataframe thead th {\n",
       "        text-align: right;\n",
       "    }\n",
       "</style>\n",
       "<table border=\"1\" class=\"dataframe\">\n",
       "  <thead>\n",
       "    <tr style=\"text-align: right;\">\n",
       "      <th></th>\n",
       "      <th>VERSION</th>\n",
       "      <th>INSTRUCTION_MISSED</th>\n",
       "      <th>INSTRUCTION_COVERED</th>\n",
       "      <th>BRANCH_MISSED</th>\n",
       "      <th>BRANCH_COVERED</th>\n",
       "      <th>LINE_MISSED</th>\n",
       "      <th>LINE_COVERED</th>\n",
       "      <th>COMPLEXITY_MISSED</th>\n",
       "      <th>COMPLEXITY_COVERED</th>\n",
       "      <th>METHOD_MISSED</th>\n",
       "      <th>METHOD_COVERED</th>\n",
       "      <th>Post Release Defect Density</th>\n",
       "      <th>STATEMENT_COVERAGE</th>\n",
       "      <th>BRANCH_COVERAGE</th>\n",
       "    </tr>\n",
       "  </thead>\n",
       "  <tbody>\n",
       "    <tr>\n",
       "      <td>0</td>\n",
       "      <td>Commons-Collections-4.0</td>\n",
       "      <td>18.119171</td>\n",
       "      <td>103.329016</td>\n",
       "      <td>3.209845</td>\n",
       "      <td>11.031088</td>\n",
       "      <td>4.251295</td>\n",
       "      <td>25.277202</td>\n",
       "      <td>3.702073</td>\n",
       "      <td>12.303109</td>\n",
       "      <td>1.230570</td>\n",
       "      <td>7.580311</td>\n",
       "      <td>162.337662</td>\n",
       "      <td>0.856027</td>\n",
       "      <td>0.774604</td>\n",
       "    </tr>\n",
       "    <tr>\n",
       "      <td>1</td>\n",
       "      <td>Commons-Collections-4.1</td>\n",
       "      <td>17.293362</td>\n",
       "      <td>97.426124</td>\n",
       "      <td>2.869379</td>\n",
       "      <td>10.156317</td>\n",
       "      <td>4.072805</td>\n",
       "      <td>23.700214</td>\n",
       "      <td>3.436831</td>\n",
       "      <td>11.822270</td>\n",
       "      <td>1.235546</td>\n",
       "      <td>7.449679</td>\n",
       "      <td>165.852256</td>\n",
       "      <td>0.853354</td>\n",
       "      <td>0.779714</td>\n",
       "    </tr>\n",
       "    <tr>\n",
       "      <td>2</td>\n",
       "      <td>Commons-Collections-4.2</td>\n",
       "      <td>15.234043</td>\n",
       "      <td>99.312766</td>\n",
       "      <td>2.461702</td>\n",
       "      <td>10.557447</td>\n",
       "      <td>3.417021</td>\n",
       "      <td>24.297872</td>\n",
       "      <td>3.112766</td>\n",
       "      <td>12.136170</td>\n",
       "      <td>1.131915</td>\n",
       "      <td>7.546809</td>\n",
       "      <td>149.985904</td>\n",
       "      <td>0.876708</td>\n",
       "      <td>0.810917</td>\n",
       "    </tr>\n",
       "    <tr>\n",
       "      <td>3</td>\n",
       "      <td>Commons-Collections-4.3</td>\n",
       "      <td>15.140426</td>\n",
       "      <td>99.459574</td>\n",
       "      <td>2.451064</td>\n",
       "      <td>10.589362</td>\n",
       "      <td>3.395745</td>\n",
       "      <td>24.344681</td>\n",
       "      <td>3.100000</td>\n",
       "      <td>12.172340</td>\n",
       "      <td>1.129787</td>\n",
       "      <td>7.561702</td>\n",
       "      <td>149.409116</td>\n",
       "      <td>0.877589</td>\n",
       "      <td>0.812041</td>\n",
       "    </tr>\n",
       "    <tr>\n",
       "      <td>4</td>\n",
       "      <td>Commons-Collections-4.4</td>\n",
       "      <td>15.029598</td>\n",
       "      <td>99.727273</td>\n",
       "      <td>2.458774</td>\n",
       "      <td>10.638478</td>\n",
       "      <td>3.376321</td>\n",
       "      <td>24.431290</td>\n",
       "      <td>3.090909</td>\n",
       "      <td>12.236786</td>\n",
       "      <td>1.116279</td>\n",
       "      <td>7.602537</td>\n",
       "      <td>146.829811</td>\n",
       "      <td>0.878583</td>\n",
       "      <td>0.812268</td>\n",
       "    </tr>\n",
       "  </tbody>\n",
       "</table>\n",
       "</div>"
      ],
      "text/plain": [
       "                   VERSION  INSTRUCTION_MISSED  INSTRUCTION_COVERED  \\\n",
       "0  Commons-Collections-4.0           18.119171           103.329016   \n",
       "1  Commons-Collections-4.1           17.293362            97.426124   \n",
       "2  Commons-Collections-4.2           15.234043            99.312766   \n",
       "3  Commons-Collections-4.3           15.140426            99.459574   \n",
       "4  Commons-Collections-4.4           15.029598            99.727273   \n",
       "\n",
       "   BRANCH_MISSED  BRANCH_COVERED  LINE_MISSED  LINE_COVERED  \\\n",
       "0       3.209845       11.031088     4.251295     25.277202   \n",
       "1       2.869379       10.156317     4.072805     23.700214   \n",
       "2       2.461702       10.557447     3.417021     24.297872   \n",
       "3       2.451064       10.589362     3.395745     24.344681   \n",
       "4       2.458774       10.638478     3.376321     24.431290   \n",
       "\n",
       "   COMPLEXITY_MISSED  COMPLEXITY_COVERED  METHOD_MISSED  METHOD_COVERED  \\\n",
       "0           3.702073           12.303109       1.230570        7.580311   \n",
       "1           3.436831           11.822270       1.235546        7.449679   \n",
       "2           3.112766           12.136170       1.131915        7.546809   \n",
       "3           3.100000           12.172340       1.129787        7.561702   \n",
       "4           3.090909           12.236786       1.116279        7.602537   \n",
       "\n",
       "   Post Release Defect Density  STATEMENT_COVERAGE  BRANCH_COVERAGE  \n",
       "0                   162.337662            0.856027         0.774604  \n",
       "1                   165.852256            0.853354         0.779714  \n",
       "2                   149.985904            0.876708         0.810917  \n",
       "3                   149.409116            0.877589         0.812041  \n",
       "4                   146.829811            0.878583         0.812268  "
      ]
     },
     "execution_count": 44,
     "metadata": {},
     "output_type": "execute_result"
    }
   ],
   "source": [
    "data.head()"
   ]
  },
  {
   "cell_type": "markdown",
   "metadata": {},
   "source": [
    "### 1. Metric 1 and 6\n",
    "Statement coverage and Post Defect Density"
   ]
  },
  {
   "cell_type": "code",
   "execution_count": 45,
   "metadata": {},
   "outputs": [
    {
     "data": {
      "text/plain": [
       "Text(0.5, 1.0, 'Statement coverage and Defect Density')"
      ]
     },
     "execution_count": 45,
     "metadata": {},
     "output_type": "execute_result"
    },
    {
     "data": {
      "image/png": "[encoded data removed]",
      "text/plain": [
       "<Figure size 432x288 with 1 Axes>"
      ]
     },
     "metadata": {},
     "output_type": "display_data"
    }
   ],
   "source": [
    "plt.figure(figsize=(6, 4))\n",
    "ax = sns.lineplot(x=\"STATEMENT_COVERAGE\", y=\"Post Release Defect Density\", data=data)\n",
    "plt.ylabel(\"DEFECT_DENSITY\")\n",
    "plt.title(\"Statement coverage and Defect Density\")"
   ]
  },
  {
   "cell_type": "markdown",
   "metadata": {},
   "source": [
    "##### Corelation:"
   ]
  },
  {
   "cell_type": "code",
   "execution_count": 46,
   "metadata": {},
   "outputs": [
    {
     "data": {
      "text/html": [
       "<div>\n",
       "<style scoped>\n",
       "    .dataframe tbody tr th:only-of-type {\n",
       "        vertical-align: middle;\n",
       "    }\n",
       "\n",
       "    .dataframe tbody tr th {\n",
       "        vertical-align: top;\n",
       "    }\n",
       "\n",
       "    .dataframe thead th {\n",
       "        text-align: right;\n",
       "    }\n",
       "</style>\n",
       "<table border=\"1\" class=\"dataframe\">\n",
       "  <thead>\n",
       "    <tr style=\"text-align: right;\">\n",
       "      <th></th>\n",
       "      <th>STATEMENT_COVERAGE</th>\n",
       "      <th>Post Release Defect Density</th>\n",
       "    </tr>\n",
       "  </thead>\n",
       "  <tbody>\n",
       "    <tr>\n",
       "      <td>STATEMENT_COVERAGE</td>\n",
       "      <td>1.0</td>\n",
       "      <td>-1.0</td>\n",
       "    </tr>\n",
       "    <tr>\n",
       "      <td>Post Release Defect Density</td>\n",
       "      <td>-1.0</td>\n",
       "      <td>1.0</td>\n",
       "    </tr>\n",
       "  </tbody>\n",
       "</table>\n",
       "</div>"
      ],
      "text/plain": [
       "                             STATEMENT_COVERAGE  Post Release Defect Density\n",
       "STATEMENT_COVERAGE                          1.0                         -1.0\n",
       "Post Release Defect Density                -1.0                          1.0"
      ]
     },
     "execution_count": 46,
     "metadata": {},
     "output_type": "execute_result"
    }
   ],
   "source": [
    "data[['STATEMENT_COVERAGE','Post Release Defect Density']].corr(method ='spearman')"
   ]
  },
  {
   "cell_type": "code",
   "execution_count": 47,
   "metadata": {},
   "outputs": [
    {
     "name": "stdout",
     "output_type": "stream",
     "text": [
      "SpearmanrResult(correlation=-0.9999999999999999, pvalue=1.4042654220543672e-24)\n"
     ]
    }
   ],
   "source": [
    "print(spearmanr(data['STATEMENT_COVERAGE'],data['Post Release Defect Density']))"
   ]
  },
  {
   "cell_type": "markdown",
   "metadata": {},
   "source": [
    "### This concludes that Classes with low Statement Coverage contain more bugs"
   ]
  },
  {
   "cell_type": "markdown",
   "metadata": {},
   "source": [
    "### 2. Metric 2 and 6\n",
    "Branch coverage and Post Defect Density"
   ]
  },
  {
   "cell_type": "code",
   "execution_count": 48,
   "metadata": {},
   "outputs": [
    {
     "data": {
      "text/plain": [
       "Text(0.5, 1.0, 'Branch Coverage and Defect Density')"
      ]
     },
     "execution_count": 48,
     "metadata": {},
     "output_type": "execute_result"
    },
    {
     "data": {
      "image/png": "[encoded data removed]",
      "text/plain": [
       "<Figure size 432x288 with 1 Axes>"
      ]
     },
     "metadata": {},
     "output_type": "display_data"
    }
   ],
   "source": [
    "plt.figure(figsize=(6, 4))\n",
    "ax = sns.lineplot(x=\"BRANCH_COVERAGE\", y=\"Post Release Defect Density\", data=data)\n",
    "plt.ylabel(\"DEFECT DENSITY\")\n",
    "plt.title(\"Branch Coverage and Defect Density\")"
   ]
  },
  {
   "cell_type": "markdown",
   "metadata": {},
   "source": [
    "##### Corelation:"
   ]
  },
  {
   "cell_type": "code",
   "execution_count": 49,
   "metadata": {},
   "outputs": [
    {
     "data": {
      "text/html": [
       "<div>\n",
       "<style scoped>\n",
       "    .dataframe tbody tr th:only-of-type {\n",
       "        vertical-align: middle;\n",
       "    }\n",
       "\n",
       "    .dataframe tbody tr th {\n",
       "        vertical-align: top;\n",
       "    }\n",
       "\n",
       "    .dataframe thead th {\n",
       "        text-align: right;\n",
       "    }\n",
       "</style>\n",
       "<table border=\"1\" class=\"dataframe\">\n",
       "  <thead>\n",
       "    <tr style=\"text-align: right;\">\n",
       "      <th></th>\n",
       "      <th>BRANCH_COVERAGE</th>\n",
       "      <th>Post Release Defect Density</th>\n",
       "    </tr>\n",
       "  </thead>\n",
       "  <tbody>\n",
       "    <tr>\n",
       "      <td>BRANCH_COVERAGE</td>\n",
       "      <td>1.0</td>\n",
       "      <td>-0.9</td>\n",
       "    </tr>\n",
       "    <tr>\n",
       "      <td>Post Release Defect Density</td>\n",
       "      <td>-0.9</td>\n",
       "      <td>1.0</td>\n",
       "    </tr>\n",
       "  </tbody>\n",
       "</table>\n",
       "</div>"
      ],
      "text/plain": [
       "                             BRANCH_COVERAGE  Post Release Defect Density\n",
       "BRANCH_COVERAGE                          1.0                         -0.9\n",
       "Post Release Defect Density             -0.9                          1.0"
      ]
     },
     "execution_count": 49,
     "metadata": {},
     "output_type": "execute_result"
    }
   ],
   "source": [
    "data[['BRANCH_COVERAGE','Post Release Defect Density']].corr(method ='spearman')"
   ]
  },
  {
   "cell_type": "code",
   "execution_count": 50,
   "metadata": {},
   "outputs": [
    {
     "name": "stdout",
     "output_type": "stream",
     "text": [
      "SpearmanrResult(correlation=-0.8999999999999998, pvalue=0.03738607346849874)\n"
     ]
    }
   ],
   "source": [
    "print(spearmanr(data['BRANCH_COVERAGE'],data['Post Release Defect Density']))"
   ]
  },
  {
   "cell_type": "markdown",
   "metadata": {},
   "source": [
    "### This concludes that Classes with low Branch Coverage contain more bugs"
   ]
  },
  {
   "cell_type": "code",
   "execution_count": null,
   "metadata": {},
   "outputs": [],
   "source": []
  }
 ],
 "metadata": {
  "kernelspec": {
   "display_name": "Python 3",
   "language": "python",
   "name": "python3"
  },
  "language_info": {
   "codemirror_mode": {
    "name": "ipython",
    "version": 3
   },
   "file_extension": ".py",
   "mimetype": "text/x-python",
   "name": "python",
   "nbconvert_exporter": "python",
   "pygments_lexer": "ipython3",
   "version": "3.7.4"
  }
 },
 "nbformat": 4,
 "nbformat_minor": 2
}
