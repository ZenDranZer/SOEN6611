{
 "cells": [
  {
   "cell_type": "markdown",
   "metadata": {},
   "source": [
    "### Correlation between one complexity metric (Metric 4) and each coverage metric (Metric 1&2).\n",
    "The rationale is that classes with higher complexity are less likely to have high coverage test suites\n",
    "\n",
    "### Apache commons-math"
   ]
  },
  {
   "cell_type": "code",
   "execution_count": 1,
   "metadata": {},
   "outputs": [],
   "source": [
    "import pandas as pd\n",
    "import matplotlib.pyplot as plt\n",
    "import seaborn as sns\n",
    "from scipy.stats import spearmanr\n",
    "sns.set()"
   ]
  },
  {
   "cell_type": "code",
   "execution_count": 2,
   "metadata": {},
   "outputs": [],
   "source": [
    "#read csv file into dataframe\n",
    "data = pd.read_csv(\"Project_2_jacoco.csv\")"
   ]
  },
  {
   "cell_type": "code",
   "execution_count": 3,
   "metadata": {},
   "outputs": [],
   "source": [
    "#calculate Statement Coverage\n",
    "data['STATEMENT_COVERAGE'] =  (data['LINE_COVERED'] / (data['LINE_COVERED'] + data['LINE_MISSED'])) * 100"
   ]
  },
  {
   "cell_type": "code",
   "execution_count": 4,
   "metadata": {},
   "outputs": [],
   "source": [
    "#calculate Branch Coverage\n",
    "data['BRANCH_COVERAGE'] =  (data['BRANCH_COVERED'] / (data['BRANCH_COVERED'] + data['BRANCH_MISSED'])) * 100"
   ]
  },
  {
   "cell_type": "code",
   "execution_count": 5,
   "metadata": {},
   "outputs": [],
   "source": [
    "#calculate cyclomatic complexity\n",
    "data['CYCLOMATIC_COMPLEXITY'] =  data['COMPLEXITY_COVERED'] + data['COMPLEXITY_MISSED'];"
   ]
  },
  {
   "cell_type": "code",
   "execution_count": 6,
   "metadata": {},
   "outputs": [
    {
     "data": {
      "text/html": [
       "<div>\n",
       "<style scoped>\n",
       "    .dataframe tbody tr th:only-of-type {\n",
       "        vertical-align: middle;\n",
       "    }\n",
       "\n",
       "    .dataframe tbody tr th {\n",
       "        vertical-align: top;\n",
       "    }\n",
       "\n",
       "    .dataframe thead th {\n",
       "        text-align: right;\n",
       "    }\n",
       "</style>\n",
       "<table border=\"1\" class=\"dataframe\">\n",
       "  <thead>\n",
       "    <tr style=\"text-align: right;\">\n",
       "      <th></th>\n",
       "      <th>GROUP</th>\n",
       "      <th>PACKAGE</th>\n",
       "      <th>CLASS</th>\n",
       "      <th>INSTRUCTION_MISSED</th>\n",
       "      <th>INSTRUCTION_COVERED</th>\n",
       "      <th>BRANCH_MISSED</th>\n",
       "      <th>BRANCH_COVERED</th>\n",
       "      <th>LINE_MISSED</th>\n",
       "      <th>LINE_COVERED</th>\n",
       "      <th>COMPLEXITY_MISSED</th>\n",
       "      <th>COMPLEXITY_COVERED</th>\n",
       "      <th>METHOD_MISSED</th>\n",
       "      <th>METHOD_COVERED</th>\n",
       "      <th>STATEMENT_COVERAGE</th>\n",
       "      <th>BRANCH_COVERAGE</th>\n",
       "      <th>CYCLOMATIC_COMPLEXITY</th>\n",
       "    </tr>\n",
       "  </thead>\n",
       "  <tbody>\n",
       "    <tr>\n",
       "      <td>0</td>\n",
       "      <td>Apache Commons Math</td>\n",
       "      <td>org.apache.commons.math3.optim.nonlinear.scala...</td>\n",
       "      <td>NonLinearConjugateGradientOptimizer.IdentityPr...</td>\n",
       "      <td>0</td>\n",
       "      <td>7</td>\n",
       "      <td>0</td>\n",
       "      <td>0</td>\n",
       "      <td>0</td>\n",
       "      <td>2</td>\n",
       "      <td>0</td>\n",
       "      <td>2</td>\n",
       "      <td>0</td>\n",
       "      <td>2</td>\n",
       "      <td>100.000000</td>\n",
       "      <td>NaN</td>\n",
       "      <td>2</td>\n",
       "    </tr>\n",
       "    <tr>\n",
       "      <td>1</td>\n",
       "      <td>Apache Commons Math</td>\n",
       "      <td>org.apache.commons.math3.optim.nonlinear.scala...</td>\n",
       "      <td>NonLinearConjugateGradientOptimizer.Formula</td>\n",
       "      <td>0</td>\n",
       "      <td>24</td>\n",
       "      <td>0</td>\n",
       "      <td>0</td>\n",
       "      <td>0</td>\n",
       "      <td>3</td>\n",
       "      <td>0</td>\n",
       "      <td>1</td>\n",
       "      <td>0</td>\n",
       "      <td>1</td>\n",
       "      <td>100.000000</td>\n",
       "      <td>NaN</td>\n",
       "      <td>1</td>\n",
       "    </tr>\n",
       "    <tr>\n",
       "      <td>2</td>\n",
       "      <td>Apache Commons Math</td>\n",
       "      <td>org.apache.commons.math3.optim.nonlinear.scala...</td>\n",
       "      <td>NonLinearConjugateGradientOptimizer</td>\n",
       "      <td>30</td>\n",
       "      <td>297</td>\n",
       "      <td>5</td>\n",
       "      <td>28</td>\n",
       "      <td>10</td>\n",
       "      <td>61</td>\n",
       "      <td>7</td>\n",
       "      <td>19</td>\n",
       "      <td>2</td>\n",
       "      <td>7</td>\n",
       "      <td>85.915493</td>\n",
       "      <td>84.848485</td>\n",
       "      <td>26</td>\n",
       "    </tr>\n",
       "    <tr>\n",
       "      <td>3</td>\n",
       "      <td>Apache Commons Math</td>\n",
       "      <td>org.apache.commons.math3.optim.nonlinear.scala...</td>\n",
       "      <td>NonLinearConjugateGradientOptimizer.Bracketing...</td>\n",
       "      <td>9</td>\n",
       "      <td>0</td>\n",
       "      <td>0</td>\n",
       "      <td>0</td>\n",
       "      <td>4</td>\n",
       "      <td>0</td>\n",
       "      <td>2</td>\n",
       "      <td>0</td>\n",
       "      <td>2</td>\n",
       "      <td>0</td>\n",
       "      <td>0.000000</td>\n",
       "      <td>NaN</td>\n",
       "      <td>2</td>\n",
       "    </tr>\n",
       "    <tr>\n",
       "      <td>4</td>\n",
       "      <td>Apache Commons Math</td>\n",
       "      <td>org.apache.commons.math3.ml.neuralnet.sofm.util</td>\n",
       "      <td>QuasiSigmoidDecayFunction</td>\n",
       "      <td>0</td>\n",
       "      <td>83</td>\n",
       "      <td>0</td>\n",
       "      <td>6</td>\n",
       "      <td>0</td>\n",
       "      <td>18</td>\n",
       "      <td>0</td>\n",
       "      <td>5</td>\n",
       "      <td>0</td>\n",
       "      <td>2</td>\n",
       "      <td>100.000000</td>\n",
       "      <td>100.000000</td>\n",
       "      <td>5</td>\n",
       "    </tr>\n",
       "  </tbody>\n",
       "</table>\n",
       "</div>"
      ],
      "text/plain": [
       "                 GROUP                                            PACKAGE  \\\n",
       "0  Apache Commons Math  org.apache.commons.math3.optim.nonlinear.scala...   \n",
       "1  Apache Commons Math  org.apache.commons.math3.optim.nonlinear.scala...   \n",
       "2  Apache Commons Math  org.apache.commons.math3.optim.nonlinear.scala...   \n",
       "3  Apache Commons Math  org.apache.commons.math3.optim.nonlinear.scala...   \n",
       "4  Apache Commons Math    org.apache.commons.math3.ml.neuralnet.sofm.util   \n",
       "\n",
       "                                               CLASS  INSTRUCTION_MISSED  \\\n",
       "0  NonLinearConjugateGradientOptimizer.IdentityPr...                   0   \n",
       "1        NonLinearConjugateGradientOptimizer.Formula                   0   \n",
       "2                NonLinearConjugateGradientOptimizer                  30   \n",
       "3  NonLinearConjugateGradientOptimizer.Bracketing...                   9   \n",
       "4                          QuasiSigmoidDecayFunction                   0   \n",
       "\n",
       "   INSTRUCTION_COVERED  BRANCH_MISSED  BRANCH_COVERED  LINE_MISSED  \\\n",
       "0                    7              0               0            0   \n",
       "1                   24              0               0            0   \n",
       "2                  297              5              28           10   \n",
       "3                    0              0               0            4   \n",
       "4                   83              0               6            0   \n",
       "\n",
       "   LINE_COVERED  COMPLEXITY_MISSED  COMPLEXITY_COVERED  METHOD_MISSED  \\\n",
       "0             2                  0                   2              0   \n",
       "1             3                  0                   1              0   \n",
       "2            61                  7                  19              2   \n",
       "3             0                  2                   0              2   \n",
       "4            18                  0                   5              0   \n",
       "\n",
       "   METHOD_COVERED  STATEMENT_COVERAGE  BRANCH_COVERAGE  CYCLOMATIC_COMPLEXITY  \n",
       "0               2          100.000000              NaN                      2  \n",
       "1               1          100.000000              NaN                      1  \n",
       "2               7           85.915493        84.848485                     26  \n",
       "3               0            0.000000              NaN                      2  \n",
       "4               2          100.000000       100.000000                      5  "
      ]
     },
     "execution_count": 6,
     "metadata": {},
     "output_type": "execute_result"
    }
   ],
   "source": [
    "data.head()"
   ]
  },
  {
   "cell_type": "markdown",
   "metadata": {},
   "source": [
    "### 1. Metric 4 and 1\n",
    "Cyclomatic complexity and Statement coverage"
   ]
  },
  {
   "cell_type": "code",
   "execution_count": 7,
   "metadata": {},
   "outputs": [
    {
     "data": {
      "text/plain": [
       "Text(0.5, 1.0, 'Cyclomatic complexity and Statement coverage')"
      ]
     },
     "execution_count": 7,
     "metadata": {},
     "output_type": "execute_result"
    },
    {
     "data": {
      "image/png": "[encoded data removed]",
      "text/plain": [
       "<Figure size 720x432 with 1 Axes>"
      ]
     },
     "metadata": {
      "needs_background": "light"
     },
     "output_type": "display_data"
    }
   ],
   "source": [
    "plt.figure(figsize=(10, 6))\n",
    "ax = sns.scatterplot(x=\"CYCLOMATIC_COMPLEXITY\", y=\"STATEMENT_COVERAGE\", data=data)\n",
    "plt.ylabel(\"STATEMENT_COVERAGE%\")\n",
    "plt.title(\"Cyclomatic complexity and Statement coverage\")"
   ]
  },
  {
   "cell_type": "markdown",
   "metadata": {},
   "source": [
    "##### Corelation:"
   ]
  },
  {
   "cell_type": "code",
   "execution_count": 8,
   "metadata": {},
   "outputs": [
    {
     "data": {
      "text/html": [
       "<div>\n",
       "<style scoped>\n",
       "    .dataframe tbody tr th:only-of-type {\n",
       "        vertical-align: middle;\n",
       "    }\n",
       "\n",
       "    .dataframe tbody tr th {\n",
       "        vertical-align: top;\n",
       "    }\n",
       "\n",
       "    .dataframe thead th {\n",
       "        text-align: right;\n",
       "    }\n",
       "</style>\n",
       "<table border=\"1\" class=\"dataframe\">\n",
       "  <thead>\n",
       "    <tr style=\"text-align: right;\">\n",
       "      <th></th>\n",
       "      <th>CYCLOMATIC_COMPLEXITY</th>\n",
       "      <th>STATEMENT_COVERAGE</th>\n",
       "    </tr>\n",
       "  </thead>\n",
       "  <tbody>\n",
       "    <tr>\n",
       "      <td>CYCLOMATIC_COMPLEXITY</td>\n",
       "      <td>1.000000</td>\n",
       "      <td>-0.382484</td>\n",
       "    </tr>\n",
       "    <tr>\n",
       "      <td>STATEMENT_COVERAGE</td>\n",
       "      <td>-0.382484</td>\n",
       "      <td>1.000000</td>\n",
       "    </tr>\n",
       "  </tbody>\n",
       "</table>\n",
       "</div>"
      ],
      "text/plain": [
       "                       CYCLOMATIC_COMPLEXITY  STATEMENT_COVERAGE\n",
       "CYCLOMATIC_COMPLEXITY               1.000000           -0.382484\n",
       "STATEMENT_COVERAGE                 -0.382484            1.000000"
      ]
     },
     "execution_count": 8,
     "metadata": {},
     "output_type": "execute_result"
    }
   ],
   "source": [
    "data[['CYCLOMATIC_COMPLEXITY','STATEMENT_COVERAGE']].corr(method ='spearman')"
   ]
  },
  {
   "cell_type": "markdown",
   "metadata": {},
   "source": [
    "The rationale is that classes with higher complexity are less likely to have high coverage test suites"
   ]
  },
  {
   "cell_type": "markdown",
   "metadata": {},
   "source": [
    "### 2. Metric 4 and 2\n",
    "Cyclomatic Complexity and Branch Coverage"
   ]
  },
  {
   "cell_type": "code",
   "execution_count": 9,
   "metadata": {},
   "outputs": [
    {
     "data": {
      "text/plain": [
       "Text(0.5, 1.0, 'Cyclomatic Complexity and Branch Coverage')"
      ]
     },
     "execution_count": 9,
     "metadata": {},
     "output_type": "execute_result"
    },
    {
     "data": {
      "image/png": "[encoded data removed]",
      "text/plain": [
       "<Figure size 720x432 with 1 Axes>"
      ]
     },
     "metadata": {
      "needs_background": "light"
     },
     "output_type": "display_data"
    }
   ],
   "source": [
    "plt.figure(figsize=(10, 6))\n",
    "ax = sns.scatterplot(x=\"CYCLOMATIC_COMPLEXITY\", y=\"BRANCH_COVERAGE\", data=data)\n",
    "plt.ylabel(\"BRANCH_COVERAGE%\")\n",
    "plt.title(\"Cyclomatic Complexity and Branch Coverage\")"
   ]
  },
  {
   "cell_type": "markdown",
   "metadata": {},
   "source": [
    "Corelation:"
   ]
  },
  {
   "cell_type": "code",
   "execution_count": 10,
   "metadata": {},
   "outputs": [
    {
     "data": {
      "text/html": [
       "<div>\n",
       "<style scoped>\n",
       "    .dataframe tbody tr th:only-of-type {\n",
       "        vertical-align: middle;\n",
       "    }\n",
       "\n",
       "    .dataframe tbody tr th {\n",
       "        vertical-align: top;\n",
       "    }\n",
       "\n",
       "    .dataframe thead th {\n",
       "        text-align: right;\n",
       "    }\n",
       "</style>\n",
       "<table border=\"1\" class=\"dataframe\">\n",
       "  <thead>\n",
       "    <tr style=\"text-align: right;\">\n",
       "      <th></th>\n",
       "      <th>CYCLOMATIC_COMPLEXITY</th>\n",
       "      <th>BRANCH_COVERAGE</th>\n",
       "    </tr>\n",
       "  </thead>\n",
       "  <tbody>\n",
       "    <tr>\n",
       "      <td>CYCLOMATIC_COMPLEXITY</td>\n",
       "      <td>1.000000</td>\n",
       "      <td>-0.128318</td>\n",
       "    </tr>\n",
       "    <tr>\n",
       "      <td>BRANCH_COVERAGE</td>\n",
       "      <td>-0.128318</td>\n",
       "      <td>1.000000</td>\n",
       "    </tr>\n",
       "  </tbody>\n",
       "</table>\n",
       "</div>"
      ],
      "text/plain": [
       "                       CYCLOMATIC_COMPLEXITY  BRANCH_COVERAGE\n",
       "CYCLOMATIC_COMPLEXITY               1.000000        -0.128318\n",
       "BRANCH_COVERAGE                    -0.128318         1.000000"
      ]
     },
     "execution_count": 10,
     "metadata": {},
     "output_type": "execute_result"
    }
   ],
   "source": [
    "data[['CYCLOMATIC_COMPLEXITY','BRANCH_COVERAGE']].corr(method ='spearman')"
   ]
  },
  {
   "cell_type": "markdown",
   "metadata": {},
   "source": [
    "The rationale is that classes with higher complexity are less likely to have high coverage test suites"
   ]
  },
  {
   "cell_type": "code",
   "execution_count": null,
   "metadata": {},
   "outputs": [],
   "source": []
  }
 ],
 "metadata": {
  "kernelspec": {
   "display_name": "Python 3",
   "language": "python",
   "name": "python3"
  },
  "language_info": {
   "codemirror_mode": {
    "name": "ipython",
    "version": 3
   },
   "file_extension": ".py",
   "mimetype": "text/x-python",
   "name": "python",
   "nbconvert_exporter": "python",
   "pygments_lexer": "ipython3",
   "version": "3.7.4"
  }
 },
 "nbformat": 4,
 "nbformat_minor": 2
}
