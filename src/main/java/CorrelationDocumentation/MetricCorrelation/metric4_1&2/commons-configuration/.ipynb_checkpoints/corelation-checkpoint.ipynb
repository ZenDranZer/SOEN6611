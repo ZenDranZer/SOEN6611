{
 "cells": [
  {
   "cell_type": "markdown",
   "metadata": {},
   "source": [
    "### Correlation between one complexity metric (Metric 4) and each coverage metric (Metric 1&2).\n",
    "The rationale is that classes with higher complexity are less likely to have high coverage test suites\n",
    "\n",
    "### Apache commons-configuration"
   ]
  },
  {
   "cell_type": "code",
   "execution_count": 1,
   "metadata": {},
   "outputs": [],
   "source": [
    "import pandas as pd\n",
    "import matplotlib.pyplot as plt\n",
    "import seaborn as sns\n",
    "from scipy.stats import spearmanr\n",
    "sns.set()"
   ]
  },
  {
   "cell_type": "code",
   "execution_count": 2,
   "metadata": {},
   "outputs": [],
   "source": [
    "#read csv file into dataframe\n",
    "data = pd.read_csv(\"jacoco.csv\")"
   ]
  },
  {
   "cell_type": "code",
   "execution_count": 3,
   "metadata": {},
   "outputs": [],
   "source": [
    "#calculate Statement Coverage\n",
    "data['STATEMENT_COVERAGE'] =  (data['LINE_COVERED'] / (data['LINE_COVERED'] + data['LINE_MISSED'])) * 100"
   ]
  },
  {
   "cell_type": "code",
   "execution_count": 4,
   "metadata": {},
   "outputs": [],
   "source": [
    "#calculate Branch Coverage\n",
    "data['BRANCH_COVERAGE'] =  (data['BRANCH_COVERED'] / (data['BRANCH_COVERED'] + data['BRANCH_MISSED'])) * 100"
   ]
  },
  {
   "cell_type": "code",
   "execution_count": 5,
   "metadata": {},
   "outputs": [],
   "source": [
    "#calculate cyclomatic complexity\n",
    "data['CYCLOMATIC_COMPLEXITY'] =  data['COMPLEXITY_COVERED'] + data['COMPLEXITY_MISSED'];"
   ]
  },
  {
   "cell_type": "code",
   "execution_count": 6,
   "metadata": {},
   "outputs": [
    {
     "data": {
      "text/html": [
       "<div>\n",
       "<style scoped>\n",
       "    .dataframe tbody tr th:only-of-type {\n",
       "        vertical-align: middle;\n",
       "    }\n",
       "\n",
       "    .dataframe tbody tr th {\n",
       "        vertical-align: top;\n",
       "    }\n",
       "\n",
       "    .dataframe thead th {\n",
       "        text-align: right;\n",
       "    }\n",
       "</style>\n",
       "<table border=\"1\" class=\"dataframe\">\n",
       "  <thead>\n",
       "    <tr style=\"text-align: right;\">\n",
       "      <th></th>\n",
       "      <th>GROUP</th>\n",
       "      <th>PACKAGE</th>\n",
       "      <th>CLASS</th>\n",
       "      <th>INSTRUCTION_MISSED</th>\n",
       "      <th>INSTRUCTION_COVERED</th>\n",
       "      <th>BRANCH_MISSED</th>\n",
       "      <th>BRANCH_COVERED</th>\n",
       "      <th>LINE_MISSED</th>\n",
       "      <th>LINE_COVERED</th>\n",
       "      <th>COMPLEXITY_MISSED</th>\n",
       "      <th>COMPLEXITY_COVERED</th>\n",
       "      <th>METHOD_MISSED</th>\n",
       "      <th>METHOD_COVERED</th>\n",
       "      <th>STATEMENT_COVERAGE</th>\n",
       "      <th>BRANCH_COVERAGE</th>\n",
       "      <th>CYCLOMATIC_COMPLEXITY</th>\n",
       "    </tr>\n",
       "  </thead>\n",
       "  <tbody>\n",
       "    <tr>\n",
       "      <td>0</td>\n",
       "      <td>Apache Commons Configuration</td>\n",
       "      <td>org.apache.commons.configuration2.beanutils</td>\n",
       "      <td>ConfigurationDynaClass</td>\n",
       "      <td>36</td>\n",
       "      <td>140</td>\n",
       "      <td>4</td>\n",
       "      <td>26</td>\n",
       "      <td>5</td>\n",
       "      <td>42</td>\n",
       "      <td>6</td>\n",
       "      <td>15</td>\n",
       "      <td>2</td>\n",
       "      <td>4</td>\n",
       "      <td>89.361702</td>\n",
       "      <td>86.666667</td>\n",
       "      <td>21</td>\n",
       "    </tr>\n",
       "    <tr>\n",
       "      <td>1</td>\n",
       "      <td>Apache Commons Configuration</td>\n",
       "      <td>org.apache.commons.configuration2.beanutils</td>\n",
       "      <td>DefaultBeanFactory</td>\n",
       "      <td>7</td>\n",
       "      <td>257</td>\n",
       "      <td>3</td>\n",
       "      <td>27</td>\n",
       "      <td>0</td>\n",
       "      <td>67</td>\n",
       "      <td>3</td>\n",
       "      <td>28</td>\n",
       "      <td>0</td>\n",
       "      <td>16</td>\n",
       "      <td>100.000000</td>\n",
       "      <td>90.000000</td>\n",
       "      <td>31</td>\n",
       "    </tr>\n",
       "    <tr>\n",
       "      <td>2</td>\n",
       "      <td>Apache Commons Configuration</td>\n",
       "      <td>org.apache.commons.configuration2.beanutils</td>\n",
       "      <td>BeanHelper.BeanCreationContextImpl</td>\n",
       "      <td>5</td>\n",
       "      <td>30</td>\n",
       "      <td>0</td>\n",
       "      <td>0</td>\n",
       "      <td>1</td>\n",
       "      <td>11</td>\n",
       "      <td>1</td>\n",
       "      <td>5</td>\n",
       "      <td>1</td>\n",
       "      <td>5</td>\n",
       "      <td>91.666667</td>\n",
       "      <td>NaN</td>\n",
       "      <td>6</td>\n",
       "    </tr>\n",
       "    <tr>\n",
       "      <td>3</td>\n",
       "      <td>Apache Commons Configuration</td>\n",
       "      <td>org.apache.commons.configuration2.beanutils</td>\n",
       "      <td>XMLBeanDeclaration.NodeData</td>\n",
       "      <td>0</td>\n",
       "      <td>89</td>\n",
       "      <td>0</td>\n",
       "      <td>2</td>\n",
       "      <td>0</td>\n",
       "      <td>17</td>\n",
       "      <td>0</td>\n",
       "      <td>10</td>\n",
       "      <td>0</td>\n",
       "      <td>9</td>\n",
       "      <td>100.000000</td>\n",
       "      <td>100.000000</td>\n",
       "      <td>10</td>\n",
       "    </tr>\n",
       "    <tr>\n",
       "      <td>4</td>\n",
       "      <td>Apache Commons Configuration</td>\n",
       "      <td>org.apache.commons.configuration2.beanutils</td>\n",
       "      <td>XMLBeanDeclaration</td>\n",
       "      <td>51</td>\n",
       "      <td>315</td>\n",
       "      <td>8</td>\n",
       "      <td>28</td>\n",
       "      <td>13</td>\n",
       "      <td>74</td>\n",
       "      <td>7</td>\n",
       "      <td>36</td>\n",
       "      <td>0</td>\n",
       "      <td>25</td>\n",
       "      <td>85.057471</td>\n",
       "      <td>77.777778</td>\n",
       "      <td>43</td>\n",
       "    </tr>\n",
       "  </tbody>\n",
       "</table>\n",
       "</div>"
      ],
      "text/plain": [
       "                          GROUP                                      PACKAGE  \\\n",
       "0  Apache Commons Configuration  org.apache.commons.configuration2.beanutils   \n",
       "1  Apache Commons Configuration  org.apache.commons.configuration2.beanutils   \n",
       "2  Apache Commons Configuration  org.apache.commons.configuration2.beanutils   \n",
       "3  Apache Commons Configuration  org.apache.commons.configuration2.beanutils   \n",
       "4  Apache Commons Configuration  org.apache.commons.configuration2.beanutils   \n",
       "\n",
       "                                CLASS  INSTRUCTION_MISSED  \\\n",
       "0              ConfigurationDynaClass                  36   \n",
       "1                  DefaultBeanFactory                   7   \n",
       "2  BeanHelper.BeanCreationContextImpl                   5   \n",
       "3         XMLBeanDeclaration.NodeData                   0   \n",
       "4                  XMLBeanDeclaration                  51   \n",
       "\n",
       "   INSTRUCTION_COVERED  BRANCH_MISSED  BRANCH_COVERED  LINE_MISSED  \\\n",
       "0                  140              4              26            5   \n",
       "1                  257              3              27            0   \n",
       "2                   30              0               0            1   \n",
       "3                   89              0               2            0   \n",
       "4                  315              8              28           13   \n",
       "\n",
       "   LINE_COVERED  COMPLEXITY_MISSED  COMPLEXITY_COVERED  METHOD_MISSED  \\\n",
       "0            42                  6                  15              2   \n",
       "1            67                  3                  28              0   \n",
       "2            11                  1                   5              1   \n",
       "3            17                  0                  10              0   \n",
       "4            74                  7                  36              0   \n",
       "\n",
       "   METHOD_COVERED  STATEMENT_COVERAGE  BRANCH_COVERAGE  CYCLOMATIC_COMPLEXITY  \n",
       "0               4           89.361702        86.666667                     21  \n",
       "1              16          100.000000        90.000000                     31  \n",
       "2               5           91.666667              NaN                      6  \n",
       "3               9          100.000000       100.000000                     10  \n",
       "4              25           85.057471        77.777778                     43  "
      ]
     },
     "execution_count": 6,
     "metadata": {},
     "output_type": "execute_result"
    }
   ],
   "source": [
    "data.head()"
   ]
  },
  {
   "cell_type": "markdown",
   "metadata": {},
   "source": [
    "### 1. Metric 4 and 1\n",
    "Cyclomatic complexity and Statement coverage"
   ]
  },
  {
   "cell_type": "code",
   "execution_count": 7,
   "metadata": {},
   "outputs": [
    {
     "data": {
      "text/plain": [
       "Text(0.5, 1.0, 'Cyclomatic complexity and Statement coverage')"
      ]
     },
     "execution_count": 7,
     "metadata": {},
     "output_type": "execute_result"
    },
    {
     "data": {
      "image/png": "[encoded data removed]",
      "text/plain": [
       "<Figure size 720x432 with 1 Axes>"
      ]
     },
     "metadata": {
      "needs_background": "light"
     },
     "output_type": "display_data"
    }
   ],
   "source": [
    "plt.figure(figsize=(10, 6))\n",
    "ax = sns.scatterplot(x=\"CYCLOMATIC_COMPLEXITY\", y=\"STATEMENT_COVERAGE\", data=data)\n",
    "plt.ylabel(\"STATEMENT_COVERAGE%\")\n",
    "plt.title(\"Cyclomatic complexity and Statement coverage\")"
   ]
  },
  {
   "cell_type": "markdown",
   "metadata": {},
   "source": [
    "##### Corelation:"
   ]
  },
  {
   "cell_type": "code",
   "execution_count": 8,
   "metadata": {},
   "outputs": [
    {
     "data": {
      "text/html": [
       "<div>\n",
       "<style scoped>\n",
       "    .dataframe tbody tr th:only-of-type {\n",
       "        vertical-align: middle;\n",
       "    }\n",
       "\n",
       "    .dataframe tbody tr th {\n",
       "        vertical-align: top;\n",
       "    }\n",
       "\n",
       "    .dataframe thead th {\n",
       "        text-align: right;\n",
       "    }\n",
       "</style>\n",
       "<table border=\"1\" class=\"dataframe\">\n",
       "  <thead>\n",
       "    <tr style=\"text-align: right;\">\n",
       "      <th></th>\n",
       "      <th>CYCLOMATIC_COMPLEXITY</th>\n",
       "      <th>STATEMENT_COVERAGE</th>\n",
       "    </tr>\n",
       "  </thead>\n",
       "  <tbody>\n",
       "    <tr>\n",
       "      <td>CYCLOMATIC_COMPLEXITY</td>\n",
       "      <td>1.000000</td>\n",
       "      <td>-0.383229</td>\n",
       "    </tr>\n",
       "    <tr>\n",
       "      <td>STATEMENT_COVERAGE</td>\n",
       "      <td>-0.383229</td>\n",
       "      <td>1.000000</td>\n",
       "    </tr>\n",
       "  </tbody>\n",
       "</table>\n",
       "</div>"
      ],
      "text/plain": [
       "                       CYCLOMATIC_COMPLEXITY  STATEMENT_COVERAGE\n",
       "CYCLOMATIC_COMPLEXITY               1.000000           -0.383229\n",
       "STATEMENT_COVERAGE                 -0.383229            1.000000"
      ]
     },
     "execution_count": 8,
     "metadata": {},
     "output_type": "execute_result"
    }
   ],
   "source": [
    "data[['CYCLOMATIC_COMPLEXITY','STATEMENT_COVERAGE']].corr(method ='spearman')"
   ]
  },
  {
   "cell_type": "markdown",
   "metadata": {},
   "source": [
    "The rationale is that classes with higher complexity are less likely to have high coverage test suites"
   ]
  },
  {
   "cell_type": "markdown",
   "metadata": {},
   "source": [
    "### 2. Metric 4 and 2\n",
    "Cyclomatic Complexity and Branch Coverage"
   ]
  },
  {
   "cell_type": "code",
   "execution_count": 9,
   "metadata": {},
   "outputs": [
    {
     "data": {
      "text/plain": [
       "Text(0.5, 1.0, 'Cyclomatic Complexity and Branch Coverage')"
      ]
     },
     "execution_count": 9,
     "metadata": {},
     "output_type": "execute_result"
    },
    {
     "data": {
      "image/png": "[encoded data removed]",
      "text/plain": [
       "<Figure size 720x432 with 1 Axes>"
      ]
     },
     "metadata": {
      "needs_background": "light"
     },
     "output_type": "display_data"
    }
   ],
   "source": [
    "plt.figure(figsize=(10, 6))\n",
    "ax = sns.scatterplot(x=\"CYCLOMATIC_COMPLEXITY\", y=\"BRANCH_COVERAGE\", data=data)\n",
    "plt.ylabel(\"BRANCH_COVERAGE%\")\n",
    "plt.title(\"Cyclomatic Complexity and Branch Coverage\")"
   ]
  },
  {
   "cell_type": "markdown",
   "metadata": {},
   "source": [
    "Corelation:"
   ]
  },
  {
   "cell_type": "code",
   "execution_count": 10,
   "metadata": {},
   "outputs": [
    {
     "data": {
      "text/html": [
       "<div>\n",
       "<style scoped>\n",
       "    .dataframe tbody tr th:only-of-type {\n",
       "        vertical-align: middle;\n",
       "    }\n",
       "\n",
       "    .dataframe tbody tr th {\n",
       "        vertical-align: top;\n",
       "    }\n",
       "\n",
       "    .dataframe thead th {\n",
       "        text-align: right;\n",
       "    }\n",
       "</style>\n",
       "<table border=\"1\" class=\"dataframe\">\n",
       "  <thead>\n",
       "    <tr style=\"text-align: right;\">\n",
       "      <th></th>\n",
       "      <th>CYCLOMATIC_COMPLEXITY</th>\n",
       "      <th>BRANCH_COVERAGE</th>\n",
       "    </tr>\n",
       "  </thead>\n",
       "  <tbody>\n",
       "    <tr>\n",
       "      <td>CYCLOMATIC_COMPLEXITY</td>\n",
       "      <td>1.000000</td>\n",
       "      <td>-0.378758</td>\n",
       "    </tr>\n",
       "    <tr>\n",
       "      <td>BRANCH_COVERAGE</td>\n",
       "      <td>-0.378758</td>\n",
       "      <td>1.000000</td>\n",
       "    </tr>\n",
       "  </tbody>\n",
       "</table>\n",
       "</div>"
      ],
      "text/plain": [
       "                       CYCLOMATIC_COMPLEXITY  BRANCH_COVERAGE\n",
       "CYCLOMATIC_COMPLEXITY               1.000000        -0.378758\n",
       "BRANCH_COVERAGE                    -0.378758         1.000000"
      ]
     },
     "execution_count": 10,
     "metadata": {},
     "output_type": "execute_result"
    }
   ],
   "source": [
    "data[['CYCLOMATIC_COMPLEXITY','BRANCH_COVERAGE']].corr(method ='spearman')"
   ]
  },
  {
   "cell_type": "markdown",
   "metadata": {},
   "source": [
    "The rationale is that classes with higher complexity are less likely to have high coverage test suites"
   ]
  },
  {
   "cell_type": "code",
   "execution_count": null,
   "metadata": {},
   "outputs": [],
   "source": []
  }
 ],
 "metadata": {
  "kernelspec": {
   "display_name": "Python 3",
   "language": "python",
   "name": "python3"
  },
  "language_info": {
   "codemirror_mode": {
    "name": "ipython",
    "version": 3
   },
   "file_extension": ".py",
   "mimetype": "text/x-python",
   "name": "python",
   "nbconvert_exporter": "python",
   "pygments_lexer": "ipython3",
   "version": "3.7.4"
  }
 },
 "nbformat": 4,
 "nbformat_minor": 2
}
