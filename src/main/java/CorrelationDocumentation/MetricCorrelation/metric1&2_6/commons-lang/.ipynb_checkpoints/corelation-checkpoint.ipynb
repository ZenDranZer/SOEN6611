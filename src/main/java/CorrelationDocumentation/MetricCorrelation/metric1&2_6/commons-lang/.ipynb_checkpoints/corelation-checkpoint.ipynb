{
 "cells": [
  {
   "cell_type": "markdown",
   "metadata": {},
   "source": [
    "### Correlation between each coverage metric (Metric 1&2) and Metric 6. \n",
    "The rationale is that “Classeswith low test coverage contain more bugs”\n",
    "\n",
    "### Apache commons-lang"
   ]
  },
  {
   "cell_type": "code",
   "execution_count": 1,
   "metadata": {},
   "outputs": [],
   "source": [
    "import pandas as pd\n",
    "import matplotlib.pyplot as plt\n",
    "import seaborn as sns\n",
    "from scipy.stats import spearmanr\n",
    "sns.set(style=\"whitegrid\")"
   ]
  },
  {
   "cell_type": "code",
   "execution_count": 14,
   "metadata": {},
   "outputs": [],
   "source": [
    "data = pd.read_excel('commons-lang-all_version.xlsx')"
   ]
  },
  {
   "cell_type": "code",
   "execution_count": 15,
   "metadata": {},
   "outputs": [],
   "source": [
    "#calculate Statement Coverage\n",
    "data['STATEMENT_COVERAGE'] =  (data['LINE_COVERED'] / (data['LINE_COVERED'] + data['LINE_MISSED']))\n",
    "\n",
    "#calculate Branch Coverage\n",
    "data['BRANCH_COVERAGE'] =  (data['BRANCH_COVERED'] / (data['BRANCH_COVERED'] + data['BRANCH_MISSED']))\n",
    "\n",
    "data['Post Release Defect Density'] = data['Post Release Defect Density'] * 1000"
   ]
  },
  {
   "cell_type": "code",
   "execution_count": 16,
   "metadata": {},
   "outputs": [
    {
     "data": {
      "text/html": [
       "<div>\n",
       "<style scoped>\n",
       "    .dataframe tbody tr th:only-of-type {\n",
       "        vertical-align: middle;\n",
       "    }\n",
       "\n",
       "    .dataframe tbody tr th {\n",
       "        vertical-align: top;\n",
       "    }\n",
       "\n",
       "    .dataframe thead th {\n",
       "        text-align: right;\n",
       "    }\n",
       "</style>\n",
       "<table border=\"1\" class=\"dataframe\">\n",
       "  <thead>\n",
       "    <tr style=\"text-align: right;\">\n",
       "      <th></th>\n",
       "      <th>VERSION</th>\n",
       "      <th>INSTRUCTION_MISSED</th>\n",
       "      <th>INSTRUCTION_COVERED</th>\n",
       "      <th>BRANCH_MISSED</th>\n",
       "      <th>BRANCH_COVERED</th>\n",
       "      <th>LINE_MISSED</th>\n",
       "      <th>LINE_COVERED</th>\n",
       "      <th>COMPLEXITY_MISSED</th>\n",
       "      <th>COMPLEXITY_COVERED</th>\n",
       "      <th>METHOD_MISSED</th>\n",
       "      <th>METHOD_COVERED</th>\n",
       "      <th>Post Release Defect Density</th>\n",
       "      <th>STATEMENT_COVERAGE</th>\n",
       "      <th>BRANCH_COVERAGE</th>\n",
       "    </tr>\n",
       "  </thead>\n",
       "  <tbody>\n",
       "    <tr>\n",
       "      <td>0</td>\n",
       "      <td>commons-lang3-3.6</td>\n",
       "      <td>21.323651</td>\n",
       "      <td>267.883817</td>\n",
       "      <td>4.834025</td>\n",
       "      <td>36.141079</td>\n",
       "      <td>4.721992</td>\n",
       "      <td>57.734440</td>\n",
       "      <td>4.742739</td>\n",
       "      <td>29.282158</td>\n",
       "      <td>0.950207</td>\n",
       "      <td>12.298755</td>\n",
       "      <td>0.185578</td>\n",
       "      <td>0.924395</td>\n",
       "      <td>0.882025</td>\n",
       "    </tr>\n",
       "    <tr>\n",
       "      <td>1</td>\n",
       "      <td>commons-lang3-3.7</td>\n",
       "      <td>21.399177</td>\n",
       "      <td>266.559671</td>\n",
       "      <td>4.884774</td>\n",
       "      <td>35.942387</td>\n",
       "      <td>4.765432</td>\n",
       "      <td>57.390947</td>\n",
       "      <td>4.765432</td>\n",
       "      <td>29.201646</td>\n",
       "      <td>0.954733</td>\n",
       "      <td>12.312757</td>\n",
       "      <td>0.223808</td>\n",
       "      <td>0.923332</td>\n",
       "      <td>0.880355</td>\n",
       "    </tr>\n",
       "    <tr>\n",
       "      <td>2</td>\n",
       "      <td>commons-lang3-3.8.1</td>\n",
       "      <td>12.401639</td>\n",
       "      <td>276.008197</td>\n",
       "      <td>3.610656</td>\n",
       "      <td>37.245902</td>\n",
       "      <td>2.995902</td>\n",
       "      <td>59.327869</td>\n",
       "      <td>3.815574</td>\n",
       "      <td>30.237705</td>\n",
       "      <td>0.622951</td>\n",
       "      <td>12.717213</td>\n",
       "      <td>0.104188</td>\n",
       "      <td>0.951930</td>\n",
       "      <td>0.911626</td>\n",
       "    </tr>\n",
       "    <tr>\n",
       "      <td>3</td>\n",
       "      <td>commons-lang3-3.8</td>\n",
       "      <td>12.401639</td>\n",
       "      <td>276.008197</td>\n",
       "      <td>3.614754</td>\n",
       "      <td>37.241803</td>\n",
       "      <td>2.995902</td>\n",
       "      <td>59.327869</td>\n",
       "      <td>3.819672</td>\n",
       "      <td>30.233607</td>\n",
       "      <td>0.622951</td>\n",
       "      <td>12.717213</td>\n",
       "      <td>0.195353</td>\n",
       "      <td>0.951930</td>\n",
       "      <td>0.911526</td>\n",
       "    </tr>\n",
       "    <tr>\n",
       "      <td>4</td>\n",
       "      <td>commons-lang3-3.9</td>\n",
       "      <td>11.995918</td>\n",
       "      <td>276.493878</td>\n",
       "      <td>3.506122</td>\n",
       "      <td>37.363265</td>\n",
       "      <td>2.914286</td>\n",
       "      <td>59.526531</td>\n",
       "      <td>3.734694</td>\n",
       "      <td>30.342857</td>\n",
       "      <td>0.583673</td>\n",
       "      <td>12.775510</td>\n",
       "      <td>0.237960</td>\n",
       "      <td>0.953327</td>\n",
       "      <td>0.914212</td>\n",
       "    </tr>\n",
       "  </tbody>\n",
       "</table>\n",
       "</div>"
      ],
      "text/plain": [
       "               VERSION  INSTRUCTION_MISSED  INSTRUCTION_COVERED  \\\n",
       "0    commons-lang3-3.6           21.323651           267.883817   \n",
       "1    commons-lang3-3.7           21.399177           266.559671   \n",
       "2  commons-lang3-3.8.1           12.401639           276.008197   \n",
       "3    commons-lang3-3.8           12.401639           276.008197   \n",
       "4    commons-lang3-3.9           11.995918           276.493878   \n",
       "\n",
       "   BRANCH_MISSED  BRANCH_COVERED  LINE_MISSED  LINE_COVERED  \\\n",
       "0       4.834025       36.141079     4.721992     57.734440   \n",
       "1       4.884774       35.942387     4.765432     57.390947   \n",
       "2       3.610656       37.245902     2.995902     59.327869   \n",
       "3       3.614754       37.241803     2.995902     59.327869   \n",
       "4       3.506122       37.363265     2.914286     59.526531   \n",
       "\n",
       "   COMPLEXITY_MISSED  COMPLEXITY_COVERED  METHOD_MISSED  METHOD_COVERED  \\\n",
       "0           4.742739           29.282158       0.950207       12.298755   \n",
       "1           4.765432           29.201646       0.954733       12.312757   \n",
       "2           3.815574           30.237705       0.622951       12.717213   \n",
       "3           3.819672           30.233607       0.622951       12.717213   \n",
       "4           3.734694           30.342857       0.583673       12.775510   \n",
       "\n",
       "   Post Release Defect Density  STATEMENT_COVERAGE  BRANCH_COVERAGE  \n",
       "0                     0.185578            0.924395         0.882025  \n",
       "1                     0.223808            0.923332         0.880355  \n",
       "2                     0.104188            0.951930         0.911626  \n",
       "3                     0.195353            0.951930         0.911526  \n",
       "4                     0.237960            0.953327         0.914212  "
      ]
     },
     "execution_count": 16,
     "metadata": {},
     "output_type": "execute_result"
    }
   ],
   "source": [
    "data.head()"
   ]
  },
  {
   "cell_type": "markdown",
   "metadata": {},
   "source": [
    "### 1. Metric 1 and 6\n",
    "Statement coverage and Post Defect Density"
   ]
  },
  {
   "cell_type": "code",
   "execution_count": 17,
   "metadata": {},
   "outputs": [
    {
     "data": {
      "text/plain": [
       "Text(0.5, 1.0, 'Statement coverage and Defect Density')"
      ]
     },
     "execution_count": 17,
     "metadata": {},
     "output_type": "execute_result"
    },
    {
     "data": {
      "image/png": "[encoded data removed]",
      "text/plain": [
       "<Figure size 432x288 with 1 Axes>"
      ]
     },
     "metadata": {
      "needs_background": "light"
     },
     "output_type": "display_data"
    }
   ],
   "source": [
    "plt.figure(figsize=(6, 4))\n",
    "ax = sns.lineplot(x=\"STATEMENT_COVERAGE\", y=\"Post Release Defect Density\", data=data)\n",
    "plt.ylabel(\"DEFECT_DENSITY\")\n",
    "plt.title(\"Statement coverage and Defect Density\")"
   ]
  },
  {
   "cell_type": "markdown",
   "metadata": {},
   "source": [
    "##### Corelation:"
   ]
  },
  {
   "cell_type": "code",
   "execution_count": 18,
   "metadata": {},
   "outputs": [
    {
     "data": {
      "text/html": [
       "<div>\n",
       "<style scoped>\n",
       "    .dataframe tbody tr th:only-of-type {\n",
       "        vertical-align: middle;\n",
       "    }\n",
       "\n",
       "    .dataframe tbody tr th {\n",
       "        vertical-align: top;\n",
       "    }\n",
       "\n",
       "    .dataframe thead th {\n",
       "        text-align: right;\n",
       "    }\n",
       "</style>\n",
       "<table border=\"1\" class=\"dataframe\">\n",
       "  <thead>\n",
       "    <tr style=\"text-align: right;\">\n",
       "      <th></th>\n",
       "      <th>STATEMENT_COVERAGE</th>\n",
       "      <th>Post Release Defect Density</th>\n",
       "    </tr>\n",
       "  </thead>\n",
       "  <tbody>\n",
       "    <tr>\n",
       "      <td>STATEMENT_COVERAGE</td>\n",
       "      <td>1.000000</td>\n",
       "      <td>0.205196</td>\n",
       "    </tr>\n",
       "    <tr>\n",
       "      <td>Post Release Defect Density</td>\n",
       "      <td>0.205196</td>\n",
       "      <td>1.000000</td>\n",
       "    </tr>\n",
       "  </tbody>\n",
       "</table>\n",
       "</div>"
      ],
      "text/plain": [
       "                             STATEMENT_COVERAGE  Post Release Defect Density\n",
       "STATEMENT_COVERAGE                     1.000000                     0.205196\n",
       "Post Release Defect Density            0.205196                     1.000000"
      ]
     },
     "execution_count": 18,
     "metadata": {},
     "output_type": "execute_result"
    }
   ],
   "source": [
    "data[['STATEMENT_COVERAGE','Post Release Defect Density']].corr(method ='spearman')"
   ]
  },
  {
   "cell_type": "code",
   "execution_count": 19,
   "metadata": {},
   "outputs": [
    {
     "name": "stdout",
     "output_type": "stream",
     "text": [
      "SpearmanrResult(correlation=0.20519567041703085, pvalue=0.7405819415910722)\n"
     ]
    }
   ],
   "source": [
    "print(spearmanr(data['STATEMENT_COVERAGE'],data['Post Release Defect Density']))"
   ]
  },
  {
   "cell_type": "markdown",
   "metadata": {},
   "source": [
    "### This concludes that Classes with low Statement Coverage contain more bugs"
   ]
  },
  {
   "cell_type": "markdown",
   "metadata": {},
   "source": [
    "### 2. Metric 2 and 6\n",
    "Branch coverage and Post Defect Density"
   ]
  },
  {
   "cell_type": "code",
   "execution_count": 20,
   "metadata": {},
   "outputs": [
    {
     "data": {
      "text/plain": [
       "Text(0.5, 1.0, 'Branch Coverage and Defect Density')"
      ]
     },
     "execution_count": 20,
     "metadata": {},
     "output_type": "execute_result"
    },
    {
     "data": {
      "image/png": "[encoded data removed]",
      "text/plain": [
       "<Figure size 432x288 with 1 Axes>"
      ]
     },
     "metadata": {
      "needs_background": "light"
     },
     "output_type": "display_data"
    }
   ],
   "source": [
    "plt.figure(figsize=(6, 4))\n",
    "ax = sns.lineplot(x=\"BRANCH_COVERAGE\", y=\"Post Release Defect Density\", data=data)\n",
    "plt.ylabel(\"DEFECT DENSITY\")\n",
    "plt.title(\"Branch Coverage and Defect Density\")"
   ]
  },
  {
   "cell_type": "markdown",
   "metadata": {},
   "source": [
    "##### Corelation:"
   ]
  },
  {
   "cell_type": "code",
   "execution_count": 21,
   "metadata": {},
   "outputs": [
    {
     "data": {
      "text/html": [
       "<div>\n",
       "<style scoped>\n",
       "    .dataframe tbody tr th:only-of-type {\n",
       "        vertical-align: middle;\n",
       "    }\n",
       "\n",
       "    .dataframe tbody tr th {\n",
       "        vertical-align: top;\n",
       "    }\n",
       "\n",
       "    .dataframe thead th {\n",
       "        text-align: right;\n",
       "    }\n",
       "</style>\n",
       "<table border=\"1\" class=\"dataframe\">\n",
       "  <thead>\n",
       "    <tr style=\"text-align: right;\">\n",
       "      <th></th>\n",
       "      <th>BRANCH_COVERAGE</th>\n",
       "      <th>Post Release Defect Density</th>\n",
       "    </tr>\n",
       "  </thead>\n",
       "  <tbody>\n",
       "    <tr>\n",
       "      <td>BRANCH_COVERAGE</td>\n",
       "      <td>1.0</td>\n",
       "      <td>0.1</td>\n",
       "    </tr>\n",
       "    <tr>\n",
       "      <td>Post Release Defect Density</td>\n",
       "      <td>0.1</td>\n",
       "      <td>1.0</td>\n",
       "    </tr>\n",
       "  </tbody>\n",
       "</table>\n",
       "</div>"
      ],
      "text/plain": [
       "                             BRANCH_COVERAGE  Post Release Defect Density\n",
       "BRANCH_COVERAGE                          1.0                          0.1\n",
       "Post Release Defect Density              0.1                          1.0"
      ]
     },
     "execution_count": 21,
     "metadata": {},
     "output_type": "execute_result"
    }
   ],
   "source": [
    "data[['BRANCH_COVERAGE','Post Release Defect Density']].corr(method ='spearman')"
   ]
  },
  {
   "cell_type": "code",
   "execution_count": 22,
   "metadata": {},
   "outputs": [
    {
     "name": "stdout",
     "output_type": "stream",
     "text": [
      "SpearmanrResult(correlation=0.09999999999999999, pvalue=0.8728885715695383)\n"
     ]
    }
   ],
   "source": [
    "print(spearmanr(data['BRANCH_COVERAGE'],data['Post Release Defect Density']))"
   ]
  },
  {
   "cell_type": "markdown",
   "metadata": {},
   "source": [
    "### This concludes that Classes with low Branch Coverage contain more bugs"
   ]
  },
  {
   "cell_type": "code",
   "execution_count": null,
   "metadata": {},
   "outputs": [],
   "source": []
  }
 ],
 "metadata": {
  "kernelspec": {
   "display_name": "Python 3",
   "language": "python",
   "name": "python3"
  },
  "language_info": {
   "codemirror_mode": {
    "name": "ipython",
    "version": 3
   },
   "file_extension": ".py",
   "mimetype": "text/x-python",
   "name": "python",
   "nbconvert_exporter": "python",
   "pygments_lexer": "ipython3",
   "version": "3.7.4"
  }
 },
 "nbformat": 4,
 "nbformat_minor": 2
}
