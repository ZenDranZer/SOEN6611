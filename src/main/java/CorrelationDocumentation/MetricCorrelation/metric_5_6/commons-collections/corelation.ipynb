{
 "cells": [
  {
   "cell_type": "markdown",
   "metadata": {},
   "source": [
    "### Correlation between Metric 5 and Metric 6.\n",
    "The rationale is that ???\n",
    "\n",
    "### Apache commons-collections"
   ]
  },
  {
   "cell_type": "code",
   "execution_count": 59,
   "metadata": {},
   "outputs": [],
   "source": [
    "import pandas as pd\n",
    "import matplotlib.pyplot as plt\n",
    "import seaborn as sns\n",
    "from scipy.stats import spearmanr\n",
    "sns.set(style=\"whitegrid\")"
   ]
  },
  {
   "cell_type": "code",
   "execution_count": 75,
   "metadata": {},
   "outputs": [
    {
     "data": {
      "text/html": [
       "<div>\n",
       "<style scoped>\n",
       "    .dataframe tbody tr th:only-of-type {\n",
       "        vertical-align: middle;\n",
       "    }\n",
       "\n",
       "    .dataframe tbody tr th {\n",
       "        vertical-align: top;\n",
       "    }\n",
       "\n",
       "    .dataframe thead th {\n",
       "        text-align: right;\n",
       "    }\n",
       "</style>\n",
       "<table border=\"1\" class=\"dataframe\">\n",
       "  <thead>\n",
       "    <tr style=\"text-align: right;\">\n",
       "      <th></th>\n",
       "      <th>VERSION</th>\n",
       "      <th>DEFECTS</th>\n",
       "      <th>SLOC</th>\n",
       "      <th>DEFECT_DENSITY</th>\n",
       "      <th>KNOTS</th>\n",
       "    </tr>\n",
       "  </thead>\n",
       "  <tbody>\n",
       "    <tr>\n",
       "      <td>0</td>\n",
       "      <td>4.4.0</td>\n",
       "      <td>37</td>\n",
       "      <td>51622</td>\n",
       "      <td>0.716749</td>\n",
       "      <td>2497</td>\n",
       "    </tr>\n",
       "    <tr>\n",
       "      <td>1</td>\n",
       "      <td>4.4.1</td>\n",
       "      <td>18</td>\n",
       "      <td>60733</td>\n",
       "      <td>0.296379</td>\n",
       "      <td>2764</td>\n",
       "    </tr>\n",
       "    <tr>\n",
       "      <td>2</td>\n",
       "      <td>4.4.2</td>\n",
       "      <td>5</td>\n",
       "      <td>62662</td>\n",
       "      <td>0.079793</td>\n",
       "      <td>2793</td>\n",
       "    </tr>\n",
       "    <tr>\n",
       "      <td>3</td>\n",
       "      <td>4.4.3</td>\n",
       "      <td>2</td>\n",
       "      <td>62869</td>\n",
       "      <td>0.031812</td>\n",
       "      <td>2795</td>\n",
       "    </tr>\n",
       "    <tr>\n",
       "      <td>4</td>\n",
       "      <td>4.4.4</td>\n",
       "      <td>5</td>\n",
       "      <td>63365</td>\n",
       "      <td>0.078908</td>\n",
       "      <td>2807</td>\n",
       "    </tr>\n",
       "  </tbody>\n",
       "</table>\n",
       "</div>"
      ],
      "text/plain": [
       "  VERSION  DEFECTS   SLOC  DEFECT_DENSITY  KNOTS\n",
       "0   4.4.0       37  51622        0.716749   2497\n",
       "1   4.4.1       18  60733        0.296379   2764\n",
       "2   4.4.2        5  62662        0.079793   2793\n",
       "3   4.4.3        2  62869        0.031812   2795\n",
       "4   4.4.4        5  63365        0.078908   2807"
      ]
     },
     "execution_count": 75,
     "metadata": {},
     "output_type": "execute_result"
    }
   ],
   "source": [
    "#read metric6 file into dataframe\n",
    "df1 = pd.read_excel(\"PostReleaseDefectDensity.xlsx\", names=[\"VERSION\", \"DEFECTS\", \"SLOC\", \"DEFECT_DENSITY\"])\n",
    "\n",
    "#read metric5 file into dataframe\n",
    "df2 = pd.read_excel(\"knots.xlsx\", usecols=[1], names=[\"KNOTS\"])\n",
    "\n",
    "#merge two dataframe in one\n",
    "data =  pd.concat([df1, df2], axis=1)\n",
    "\n",
    "data['DEFECT_DENSITY'] =  data['DEFECT_DENSITY'] * 1000\n",
    "data.head()"
   ]
  },
  {
   "cell_type": "code",
   "execution_count": 69,
   "metadata": {},
   "outputs": [
    {
     "data": {
      "text/plain": [
       "Text(0.5, 1.0, 'Defect Density boxplot')"
      ]
     },
     "execution_count": 69,
     "metadata": {},
     "output_type": "execute_result"
    },
    {
     "data": {
      "image/png": "[encoded data removed]",
      "text/plain": [
       "<Figure size 432x288 with 1 Axes>"
      ]
     },
     "metadata": {},
     "output_type": "display_data"
    }
   ],
   "source": [
    "#boxplot of Defect density\n",
    "#boxplot shows the range of the data\n",
    "ax = sns.boxplot(y=['DEFECT_DENSITY'], data=data)\n",
    "plt.title(\"Defect Density boxplot\")"
   ]
  },
  {
   "cell_type": "code",
   "execution_count": 76,
   "metadata": {},
   "outputs": [
    {
     "data": {
      "text/plain": [
       "Text(0.5, 1.0, 'Knots boxplot')"
      ]
     },
     "execution_count": 76,
     "metadata": {},
     "output_type": "execute_result"
    },
    {
     "data": {
      "image/png": "[encoded data removed]",
      "text/plain": [
       "<Figure size 432x288 with 1 Axes>"
      ]
     },
     "metadata": {},
     "output_type": "display_data"
    }
   ],
   "source": [
    "#boxplot of Relative Knots\n",
    "#boxplot shows the range of the data\n",
    "ax = sns.boxplot(y=['KNOTS'], data=data)\n",
    "plt.title(\"Knots boxplot\")"
   ]
  },
  {
   "cell_type": "code",
   "execution_count": 77,
   "metadata": {},
   "outputs": [
    {
     "data": {
      "image/png": "[encoded data removed]",
      "text/plain": [
       "<Figure size 432x288 with 1 Axes>"
      ]
     },
     "metadata": {},
     "output_type": "display_data"
    }
   ],
   "source": [
    "plt.figure(figsize=(6, 4))\n",
    "ax = sns.scatterplot(x=\"KNOTS\", y=\"DEFECT_DENSITY\", data=data)"
   ]
  },
  {
   "cell_type": "markdown",
   "metadata": {},
   "source": [
    "##### Corelation:"
   ]
  },
  {
   "cell_type": "code",
   "execution_count": 79,
   "metadata": {},
   "outputs": [
    {
     "name": "stdout",
     "output_type": "stream",
     "text": [
      "SpearmanrResult(correlation=-0.8999999999999998, pvalue=0.03738607346849874)\n"
     ]
    }
   ],
   "source": [
    "print(spearmanr(data['KNOTS'], data['DEFECT_DENSITY']))"
   ]
  },
  {
   "cell_type": "code",
   "execution_count": 80,
   "metadata": {},
   "outputs": [
    {
     "data": {
      "text/html": [
       "<div>\n",
       "<style scoped>\n",
       "    .dataframe tbody tr th:only-of-type {\n",
       "        vertical-align: middle;\n",
       "    }\n",
       "\n",
       "    .dataframe tbody tr th {\n",
       "        vertical-align: top;\n",
       "    }\n",
       "\n",
       "    .dataframe thead th {\n",
       "        text-align: right;\n",
       "    }\n",
       "</style>\n",
       "<table border=\"1\" class=\"dataframe\">\n",
       "  <thead>\n",
       "    <tr style=\"text-align: right;\">\n",
       "      <th></th>\n",
       "      <th>KNOTS</th>\n",
       "      <th>DEFECT_DENSITY</th>\n",
       "    </tr>\n",
       "  </thead>\n",
       "  <tbody>\n",
       "    <tr>\n",
       "      <td>KNOTS</td>\n",
       "      <td>1.0</td>\n",
       "      <td>-0.9</td>\n",
       "    </tr>\n",
       "    <tr>\n",
       "      <td>DEFECT_DENSITY</td>\n",
       "      <td>-0.9</td>\n",
       "      <td>1.0</td>\n",
       "    </tr>\n",
       "  </tbody>\n",
       "</table>\n",
       "</div>"
      ],
      "text/plain": [
       "                KNOTS  DEFECT_DENSITY\n",
       "KNOTS             1.0            -0.9\n",
       "DEFECT_DENSITY   -0.9             1.0"
      ]
     },
     "execution_count": 80,
     "metadata": {},
     "output_type": "execute_result"
    }
   ],
   "source": [
    "data[['KNOTS','DEFECT_DENSITY']].corr(method ='spearman')"
   ]
  },
  {
   "cell_type": "markdown",
   "metadata": {},
   "source": [
    "The rationale is that ???"
   ]
  },
  {
   "cell_type": "code",
   "execution_count": null,
   "metadata": {},
   "outputs": [],
   "source": []
  }
 ],
 "metadata": {
  "kernelspec": {
   "display_name": "Python 3",
   "language": "python",
   "name": "python3"
  },
  "language_info": {
   "codemirror_mode": {
    "name": "ipython",
    "version": 3
   },
   "file_extension": ".py",
   "mimetype": "text/x-python",
   "name": "python",
   "nbconvert_exporter": "python",
   "pygments_lexer": "ipython3",
   "version": "3.7.4"
  }
 },
 "nbformat": 4,
 "nbformat_minor": 2
}
